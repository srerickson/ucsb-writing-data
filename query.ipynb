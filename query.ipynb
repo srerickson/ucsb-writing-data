{
 "cells": [
  {
   "cell_type": "code",
   "execution_count": 1,
   "metadata": {},
   "outputs": [
    {
     "name": "stderr",
     "output_type": "stream",
     "text": [
      "/home/coder/ucsb-writing-data/.venv/lib/python3.12/site-packages/sentence_transformers/cross_encoder/CrossEncoder.py:11: TqdmExperimentalWarning: Using `tqdm.autonotebook.tqdm` in notebook mode. Use `tqdm.tqdm` instead to force console mode (e.g. in jupyter console)\n",
      "  from tqdm.autonotebook import tqdm, trange\n"
     ]
    }
   ],
   "source": [
    "import pandas as pd\n",
    "from lib import search_display, search_df"
   ]
  },
  {
   "cell_type": "code",
   "execution_count": 2,
   "metadata": {},
   "outputs": [],
   "source": [
    "# import reflections data\n",
    "df = pd.read_csv(\"data/reflections.csv\")\n",
    "\n",
    "## pre-filtering: query a subset of the reflections (optional)\n",
    "#\n",
    "## example: subset df to students from a specific department\n",
    "# df = df[ df.DEPT0 == \"EEMB/MCDB\"]\n",
    "#\n",
    "## example: subset df to first gen students in a specific department\n",
    "# df = df[ (df.DEPT0 == \"EEMB/MCDB\") & (df.first_gen_coll_student == 1)]"
   ]
  },
  {
   "cell_type": "code",
   "execution_count": 3,
   "metadata": {},
   "outputs": [
    {
     "data": {
      "application/vnd.jupyter.widget-view+json": {
       "model_id": "85f329372342452f96944acba5efcb68",
       "version_major": 2,
       "version_minor": 0
      },
      "text/plain": [
       "FloatProgress(value=0.0, layout=Layout(width='auto'), style=ProgressStyle(bar_color='black'))"
      ]
     },
     "metadata": {},
     "output_type": "display_data"
    },
    {
     "data": {
      "text/markdown": [
       "(distance: 10.4, perm: Student601) I am not at all confident with my writing abilities. I feel that I have the knowledge and practice to be able to read texts and analyze them but when It comes down to writing and putting my thoughts into a worded format that is where I struggle. I have always excelled when it comes to math but I consistently fall short when it comes into comparison with my English. I feel that I need more time/teaching/review to be on par with college writing standards."
      ],
      "text/plain": [
       "<IPython.core.display.Markdown object>"
      ]
     },
     "metadata": {},
     "output_type": "display_data"
    },
    {
     "data": {
      "text/markdown": [
       "(distance: 10.7, perm: Student2118) I've always had a difficult time writing and expressing my thoughts through words. Especially when it comes to storytelling, I'm just not fully confident in my writing skills. I look back at my previous writing and I only feel confident in two essays I've written. With my attention span, I also don't tend to enjoy reading, because I have a difficult time comprehending some texts and end up reading without consuming the information presented. I want to get serious about my writing and become better, so I just don't see myself starting off with writing 2. I think that would just stress me out and discourage me. "
      ],
      "text/plain": [
       "<IPython.core.display.Markdown object>"
      ]
     },
     "metadata": {},
     "output_type": "display_data"
    },
    {
     "data": {
      "text/markdown": [
       "(distance: 11.0, perm: Student2135) I think I am not prepared to write the text like this. I don't think I have a perfect writing skills to complete a paragraph like that"
      ],
      "text/plain": [
       "<IPython.core.display.Markdown object>"
      ]
     },
     "metadata": {},
     "output_type": "display_data"
    },
    {
     "data": {
      "text/markdown": [
       "(distance: 11.3, perm: Student1216) Although I have learned how to become a better writer in high school, I am not as comfortable and confident as I hope to be in writing. It takes me a lot of time and extra help to write a decent paper. It is doable but I believe that extra practice will do me good. I believe that I should take every opportunity to improve my writing to feel confident and comfortable in doing any writing assignment.  "
      ],
      "text/plain": [
       "<IPython.core.display.Markdown object>"
      ]
     },
     "metadata": {},
     "output_type": "display_data"
    },
    {
     "data": {
      "text/markdown": [
       "(distance: 11.3, perm: Student2527) I am not confident enough in my abilities to succeed in Writing 2, I think that the added support of taking Writing 1, it would benefit me more than immediately going into Writing 2. I have struggled in the past when it comes to reading certain fictional texts and understanding the authors meaning and thereby making it difficult for me to write full essays analyzing the authors purpose or compare then to other texts. I am confident in my ability in reading any sort of non-fiction text and writing any sort of essay on them. "
      ],
      "text/plain": [
       "<IPython.core.display.Markdown object>"
      ]
     },
     "metadata": {},
     "output_type": "display_data"
    },
    {
     "data": {
      "text/markdown": [
       "(distance: 11.3, perm: Student3041) I think that while I have been confident with my writing skills in the past, I would want something that would help me ease into college level work. It would definitely make me more comfortable and give me a better transition. It would also help me become more confident with the work that I produce as college student."
      ],
      "text/plain": [
       "<IPython.core.display.Markdown object>"
      ]
     },
     "metadata": {},
     "output_type": "display_data"
    },
    {
     "data": {
      "text/markdown": [
       "(distance: 11.3, perm: Student833) I have done a few responses to documents and speeches by writing my own analysis papers, but I do not feel extremely confident on the process or on my ability to achieve all of an assignments criteria with the knowledge that I have now."
      ],
      "text/plain": [
       "<IPython.core.display.Markdown object>"
      ]
     },
     "metadata": {},
     "output_type": "display_data"
    },
    {
     "data": {
      "text/markdown": [
       "(distance: 11.4, perm: Student2227) I think that my writing and english skills would need some refining and I am not as confident to take writing 2."
      ],
      "text/plain": [
       "<IPython.core.display.Markdown object>"
      ]
     },
     "metadata": {},
     "output_type": "display_data"
    },
    {
     "data": {
      "text/markdown": [
       "(distance: 11.4, perm: Student1170) The lack of writing and reading over the past year and a half has made me doubt my abilities and feel less confident with my writing. I do think I'd be able to handle Writing 2, but I would feel more comfortable starting with readings and writings that I've seen and done in the past. "
      ],
      "text/plain": [
       "<IPython.core.display.Markdown object>"
      ]
     },
     "metadata": {},
     "output_type": "display_data"
    },
    {
     "data": {
      "text/markdown": [
       "(distance: 11.5, perm: Student2871) Though I have had experience with most of the course material in Writing 1, I am still not confident with my writing as I've stated that I have trouble putting thoughts to pen. I would like to push myself and start with Writing 2, but I fear that I may not be able to keep up with my peers. I hope that if I am  to be placed in Writing 1, that I would get the feedback I need to progress at an acceptable level."
      ],
      "text/plain": [
       "<IPython.core.display.Markdown object>"
      ]
     },
     "metadata": {},
     "output_type": "display_data"
    }
   ],
   "source": [
    "# search using mxbai and display 10 results\n",
    "search_display(\"not confident with my writing skills\", df, limit=10, model=\"mxbai\")"
   ]
  },
  {
   "cell_type": "code",
   "execution_count": 4,
   "metadata": {},
   "outputs": [
    {
     "data": {
      "application/vnd.jupyter.widget-view+json": {
       "model_id": "ef312be1347d47a79a3fa884a78941f9",
       "version_major": 2,
       "version_minor": 0
      },
      "text/plain": [
       "FloatProgress(value=0.0, layout=Layout(width='auto'), style=ProgressStyle(bar_color='black'))"
      ]
     },
     "metadata": {},
     "output_type": "display_data"
    },
    {
     "data": {
      "text/markdown": [
       "(distance: 0.58, perm: Student601) I am not at all confident with my writing abilities. I feel that I have the knowledge and practice to be able to read texts and analyze them but when It comes down to writing and putting my thoughts into a worded format that is where I struggle. I have always excelled when it comes to math but I consistently fall short when it comes into comparison with my English. I feel that I need more time/teaching/review to be on par with college writing standards."
      ],
      "text/plain": [
       "<IPython.core.display.Markdown object>"
      ]
     },
     "metadata": {},
     "output_type": "display_data"
    },
    {
     "data": {
      "text/markdown": [
       "(distance: 0.60, perm: Student2118) I've always had a difficult time writing and expressing my thoughts through words. Especially when it comes to storytelling, I'm just not fully confident in my writing skills. I look back at my previous writing and I only feel confident in two essays I've written. With my attention span, I also don't tend to enjoy reading, because I have a difficult time comprehending some texts and end up reading without consuming the information presented. I want to get serious about my writing and become better, so I just don't see myself starting off with writing 2. I think that would just stress me out and discourage me. "
      ],
      "text/plain": [
       "<IPython.core.display.Markdown object>"
      ]
     },
     "metadata": {},
     "output_type": "display_data"
    },
    {
     "data": {
      "text/markdown": [
       "(distance: 0.62, perm: Student2135) I think I am not prepared to write the text like this. I don't think I have a perfect writing skills to complete a paragraph like that"
      ],
      "text/plain": [
       "<IPython.core.display.Markdown object>"
      ]
     },
     "metadata": {},
     "output_type": "display_data"
    },
    {
     "data": {
      "text/markdown": [
       "(distance: 0.64, perm: Student2227) I think that my writing and english skills would need some refining and I am not as confident to take writing 2."
      ],
      "text/plain": [
       "<IPython.core.display.Markdown object>"
      ]
     },
     "metadata": {},
     "output_type": "display_data"
    },
    {
     "data": {
      "text/markdown": [
       "(distance: 0.65, perm: Student1170) The lack of writing and reading over the past year and a half has made me doubt my abilities and feel less confident with my writing. I do think I'd be able to handle Writing 2, but I would feel more comfortable starting with readings and writings that I've seen and done in the past. "
      ],
      "text/plain": [
       "<IPython.core.display.Markdown object>"
      ]
     },
     "metadata": {},
     "output_type": "display_data"
    },
    {
     "data": {
      "text/markdown": [
       "(distance: 0.65, perm: Student3041) I think that while I have been confident with my writing skills in the past, I would want something that would help me ease into college level work. It would definitely make me more comfortable and give me a better transition. It would also help me become more confident with the work that I produce as college student."
      ],
      "text/plain": [
       "<IPython.core.display.Markdown object>"
      ]
     },
     "metadata": {},
     "output_type": "display_data"
    },
    {
     "data": {
      "text/markdown": [
       "(distance: 0.65, perm: Student2527) I am not confident enough in my abilities to succeed in Writing 2, I think that the added support of taking Writing 1, it would benefit me more than immediately going into Writing 2. I have struggled in the past when it comes to reading certain fictional texts and understanding the authors meaning and thereby making it difficult for me to write full essays analyzing the authors purpose or compare then to other texts. I am confident in my ability in reading any sort of non-fiction text and writing any sort of essay on them. "
      ],
      "text/plain": [
       "<IPython.core.display.Markdown object>"
      ]
     },
     "metadata": {},
     "output_type": "display_data"
    },
    {
     "data": {
      "text/markdown": [
       "(distance: 0.66, perm: Student1216) Although I have learned how to become a better writer in high school, I am not as comfortable and confident as I hope to be in writing. It takes me a lot of time and extra help to write a decent paper. It is doable but I believe that extra practice will do me good. I believe that I should take every opportunity to improve my writing to feel confident and comfortable in doing any writing assignment.  "
      ],
      "text/plain": [
       "<IPython.core.display.Markdown object>"
      ]
     },
     "metadata": {},
     "output_type": "display_data"
    },
    {
     "data": {
      "text/markdown": [
       "(distance: 0.66, perm: Student2871) Though I have had experience with most of the course material in Writing 1, I am still not confident with my writing as I've stated that I have trouble putting thoughts to pen. I would like to push myself and start with Writing 2, but I fear that I may not be able to keep up with my peers. I hope that if I am  to be placed in Writing 1, that I would get the feedback I need to progress at an acceptable level."
      ],
      "text/plain": [
       "<IPython.core.display.Markdown object>"
      ]
     },
     "metadata": {},
     "output_type": "display_data"
    },
    {
     "data": {
      "text/markdown": [
       "(distance: 0.66, perm: Student833) I have done a few responses to documents and speeches by writing my own analysis papers, but I do not feel extremely confident on the process or on my ability to achieve all of an assignments criteria with the knowledge that I have now."
      ],
      "text/plain": [
       "<IPython.core.display.Markdown object>"
      ]
     },
     "metadata": {},
     "output_type": "display_data"
    }
   ],
   "source": [
    "# same query, but using normalized mxbai\n",
    "search_display(\"not confident with my writing skills\", df, limit=10, model=\"mxbai_norm\")"
   ]
  },
  {
   "cell_type": "code",
   "execution_count": 6,
   "metadata": {},
   "outputs": [
    {
     "data": {
      "text/html": [
       "<div>\n",
       "<style scoped>\n",
       "    .dataframe tbody tr th:only-of-type {\n",
       "        vertical-align: middle;\n",
       "    }\n",
       "\n",
       "    .dataframe tbody tr th {\n",
       "        vertical-align: top;\n",
       "    }\n",
       "\n",
       "    .dataframe thead th {\n",
       "        text-align: right;\n",
       "    }\n",
       "</style>\n",
       "<table border=\"1\" class=\"dataframe\">\n",
       "  <thead>\n",
       "    <tr style=\"text-align: right;\">\n",
       "      <th></th>\n",
       "      <th>perm</th>\n",
       "      <th>survey_50</th>\n",
       "      <th>HSGPA</th>\n",
       "      <th>student_selection</th>\n",
       "      <th>final_placement</th>\n",
       "      <th>auto_read</th>\n",
       "      <th>cwp_quarter</th>\n",
       "      <th>data_permission</th>\n",
       "      <th>language</th>\n",
       "      <th>PR_quarter</th>\n",
       "      <th>...</th>\n",
       "      <th>EOPGRP</th>\n",
       "      <th>Gender</th>\n",
       "      <th>ETH_GRP</th>\n",
       "      <th>ETH</th>\n",
       "      <th>DEPT0</th>\n",
       "      <th>first_gen_coll_student</th>\n",
       "      <th>embedding</th>\n",
       "      <th>result_question_id</th>\n",
       "      <th>result_distance</th>\n",
       "      <th>result_text</th>\n",
       "    </tr>\n",
       "  </thead>\n",
       "  <tbody>\n",
       "    <tr>\n",
       "      <th>0</th>\n",
       "      <td>Student2420</td>\n",
       "      <td>48.0</td>\n",
       "      <td>4.21</td>\n",
       "      <td>W2</td>\n",
       "      <td>W2</td>\n",
       "      <td>auto</td>\n",
       "      <td>M1-22</td>\n",
       "      <td>My data collected as part of this project may ...</td>\n",
       "      <td>I am most comfortable using English.</td>\n",
       "      <td>None</td>\n",
       "      <td>...</td>\n",
       "      <td>NOT_EOP</td>\n",
       "      <td>F</td>\n",
       "      <td>4</td>\n",
       "      <td>Asian</td>\n",
       "      <td>Psychological and Brain Sciences</td>\n",
       "      <td>1</td>\n",
       "      <td>[0.017748397, -0.0064662546, 0.04986563, 0.005...</td>\n",
       "      <td>r2</td>\n",
       "      <td>0.565852</td>\n",
       "      <td>In my high school writing courses we heavily p...</td>\n",
       "    </tr>\n",
       "    <tr>\n",
       "      <th>1</th>\n",
       "      <td>Student3238</td>\n",
       "      <td>42.0</td>\n",
       "      <td>4.16</td>\n",
       "      <td>W2</td>\n",
       "      <td>W2</td>\n",
       "      <td>auto</td>\n",
       "      <td>M2-23</td>\n",
       "      <td>My data collected as part of this project may ...</td>\n",
       "      <td>I am most comfortable using English.</td>\n",
       "      <td>None</td>\n",
       "      <td>...</td>\n",
       "      <td>EOP</td>\n",
       "      <td>F</td>\n",
       "      <td>4</td>\n",
       "      <td>Asian</td>\n",
       "      <td>College of Letters and Science</td>\n",
       "      <td>1</td>\n",
       "      <td>[0.021607453, -0.0077467826, 0.023134658, 0.02...</td>\n",
       "      <td>r2</td>\n",
       "      <td>0.591458</td>\n",
       "      <td>The \"Rhetorical Analysis\" assignment has a res...</td>\n",
       "    </tr>\n",
       "    <tr>\n",
       "      <th>2</th>\n",
       "      <td>Student1602</td>\n",
       "      <td>32.0</td>\n",
       "      <td>3.58</td>\n",
       "      <td>W1</td>\n",
       "      <td>W1</td>\n",
       "      <td>auto</td>\n",
       "      <td>M2-21</td>\n",
       "      <td>My data collected as part of this project may ...</td>\n",
       "      <td>I am most comfortable using English.</td>\n",
       "      <td>None</td>\n",
       "      <td>...</td>\n",
       "      <td>NOT_EOP</td>\n",
       "      <td>F</td>\n",
       "      <td>3</td>\n",
       "      <td>Latino</td>\n",
       "      <td>EEMB/MCDB</td>\n",
       "      <td>1</td>\n",
       "      <td>[0.030501746, -0.00709839, 0.026211325, -0.005...</td>\n",
       "      <td>r2</td>\n",
       "      <td>0.600676</td>\n",
       "      <td>This assignment Rhetorical Analysis is similar...</td>\n",
       "    </tr>\n",
       "    <tr>\n",
       "      <th>3</th>\n",
       "      <td>Student2606</td>\n",
       "      <td>35.0</td>\n",
       "      <td>NaN</td>\n",
       "      <td>W1</td>\n",
       "      <td>W1</td>\n",
       "      <td>auto</td>\n",
       "      <td>W21</td>\n",
       "      <td>My data collected as part of this project may ...</td>\n",
       "      <td>didn't ask</td>\n",
       "      <td>None</td>\n",
       "      <td>...</td>\n",
       "      <td>EOP</td>\n",
       "      <td>F</td>\n",
       "      <td>4</td>\n",
       "      <td>Asian</td>\n",
       "      <td>EEMB/MCDB</td>\n",
       "      <td>1</td>\n",
       "      <td>[-0.006085272, -0.0178766, 0.039734654, -0.017...</td>\n",
       "      <td>r2</td>\n",
       "      <td>0.606979</td>\n",
       "      <td>In high school I have done rhetorical analysis...</td>\n",
       "    </tr>\n",
       "    <tr>\n",
       "      <th>4</th>\n",
       "      <td>Student176</td>\n",
       "      <td>43.0</td>\n",
       "      <td>3.87</td>\n",
       "      <td>W2</td>\n",
       "      <td>W2</td>\n",
       "      <td>read</td>\n",
       "      <td>F22</td>\n",
       "      <td>My data collected as part of this project may ...</td>\n",
       "      <td>I am most comfortable using English.</td>\n",
       "      <td>None</td>\n",
       "      <td>...</td>\n",
       "      <td>EOP</td>\n",
       "      <td>M</td>\n",
       "      <td>1</td>\n",
       "      <td>African American</td>\n",
       "      <td>Sociology</td>\n",
       "      <td>1</td>\n",
       "      <td>[0.024260724, -0.0118631, 0.03522913, 0.005190...</td>\n",
       "      <td>r2</td>\n",
       "      <td>0.609220</td>\n",
       "      <td>I worked on multiple Rhetorical Analysis assig...</td>\n",
       "    </tr>\n",
       "  </tbody>\n",
       "</table>\n",
       "<p>5 rows × 24 columns</p>\n",
       "</div>"
      ],
      "text/plain": [
       "          perm  survey_50  HSGPA student_selection final_placement auto_read  \\\n",
       "0  Student2420       48.0   4.21                W2              W2      auto   \n",
       "1  Student3238       42.0   4.16                W2              W2      auto   \n",
       "2  Student1602       32.0   3.58                W1              W1      auto   \n",
       "3  Student2606       35.0    NaN                W1              W1      auto   \n",
       "4   Student176       43.0   3.87                W2              W2      read   \n",
       "\n",
       "  cwp_quarter                                    data_permission  \\\n",
       "0       M1-22  My data collected as part of this project may ...   \n",
       "1       M2-23  My data collected as part of this project may ...   \n",
       "2       M2-21  My data collected as part of this project may ...   \n",
       "3         W21  My data collected as part of this project may ...   \n",
       "4         F22  My data collected as part of this project may ...   \n",
       "\n",
       "                               language PR_quarter  ...   EOPGRP Gender  \\\n",
       "0  I am most comfortable using English.       None  ...  NOT_EOP      F   \n",
       "1  I am most comfortable using English.       None  ...      EOP      F   \n",
       "2  I am most comfortable using English.       None  ...  NOT_EOP      F   \n",
       "3                            didn't ask       None  ...      EOP      F   \n",
       "4  I am most comfortable using English.       None  ...      EOP      M   \n",
       "\n",
       "  ETH_GRP               ETH                             DEPT0  \\\n",
       "0       4             Asian  Psychological and Brain Sciences   \n",
       "1       4             Asian    College of Letters and Science   \n",
       "2       3            Latino                         EEMB/MCDB   \n",
       "3       4             Asian                         EEMB/MCDB   \n",
       "4       1  African American                         Sociology   \n",
       "\n",
       "  first_gen_coll_student                                          embedding  \\\n",
       "0                      1  [0.017748397, -0.0064662546, 0.04986563, 0.005...   \n",
       "1                      1  [0.021607453, -0.0077467826, 0.023134658, 0.02...   \n",
       "2                      1  [0.030501746, -0.00709839, 0.026211325, -0.005...   \n",
       "3                      1  [-0.006085272, -0.0178766, 0.039734654, -0.017...   \n",
       "4                      1  [0.024260724, -0.0118631, 0.03522913, 0.005190...   \n",
       "\n",
       "  result_question_id result_distance  \\\n",
       "0                 r2        0.565852   \n",
       "1                 r2        0.591458   \n",
       "2                 r2        0.600676   \n",
       "3                 r2        0.606979   \n",
       "4                 r2        0.609220   \n",
       "\n",
       "                                         result_text  \n",
       "0  In my high school writing courses we heavily p...  \n",
       "1  The \"Rhetorical Analysis\" assignment has a res...  \n",
       "2  This assignment Rhetorical Analysis is similar...  \n",
       "3  In high school I have done rhetorical analysis...  \n",
       "4  I worked on multiple Rhetorical Analysis assig...  \n",
       "\n",
       "[5 rows x 24 columns]"
      ]
     },
     "execution_count": 6,
     "metadata": {},
     "output_type": "execute_result"
    }
   ],
   "source": [
    "# output full table (results only include responses from firsts gen students)\n",
    "result = search_df(\"rhetorical analysis\", df[df.first_gen_coll_student == 1], model=\"mxbai\")\n",
    "# print first few rows\n",
    "result.head()"
   ]
  }
 ],
 "metadata": {
  "kernelspec": {
   "display_name": ".venv",
   "language": "python",
   "name": "python3"
  },
  "language_info": {
   "codemirror_mode": {
    "name": "ipython",
    "version": 3
   },
   "file_extension": ".py",
   "mimetype": "text/x-python",
   "name": "python",
   "nbconvert_exporter": "python",
   "pygments_lexer": "ipython3",
   "version": "3.12.3"
  }
 },
 "nbformat": 4,
 "nbformat_minor": 4
}
