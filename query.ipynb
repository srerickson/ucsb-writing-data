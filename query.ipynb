{
 "cells": [
  {
   "cell_type": "code",
   "execution_count": null,
   "metadata": {},
   "outputs": [],
   "source": [
    "import duckdb\n",
    "from pathlib import Path\n",
    "import pandas as pd\n",
    "from sentence_transformers import SentenceTransformer\n",
    "from typing import List, Any\n",
    "from IPython.display import Markdown as md"
   ]
  },
  {
   "cell_type": "code",
   "execution_count": null,
   "metadata": {},
   "outputs": [],
   "source": [
    "# source data: survey responses from students.\n",
    "df = pd.read_csv(Path(\"data\") / 'reflections.csv') \n",
    "\n",
    "# load the model for computing embeddings for query string\n",
    "model = SentenceTransformer(\"mixedbread-ai/mxbai-embed-large-v1\")\n",
    "\n",
    "# embeddings for the text responses in the survey data have been pre-computed\n",
    "embeddings_url = \"https://dreamlab-public.s3.us-west-2.amazonaws.com/sorapure/mxbai_embeddings.parquet\"\n",
    "embeddings_file = Path(\"outputs\") / 'mxbai_embeddings.parquet'\n",
    "\n",
    "# download embeddings file if the file doesn't exist\n",
    "if not embeddings_file.exists():\n",
    "    duckdb.execute(f\"COPY (SELECT * from read_parquet('{embeddings_url}')) TO '{embeddings_file}' (FORMAT PARQUET);\")"
   ]
  },
  {
   "cell_type": "code",
   "execution_count": null,
   "metadata": {},
   "outputs": [],
   "source": [
    "def search_df(q: str, df: pd.DataFrame, limit: int = 25) -> pd.DataFrame:\n",
    "    query = f\"Represent this sentence for searching relevant passages: {q}\"\n",
    "    query_embed = model.encode(query)\n",
    "    sql = f\"\"\"\n",
    "        FROM df\n",
    "        LEFT JOIN read_parquet('{embeddings_file}') ON (df.perm = student_id)\n",
    "        SELECT \n",
    "            df.*,\n",
    "            question_id as result_question_id,\n",
    "            array_distance(\n",
    "                CAST(embedding as FLOAT[1024]),\n",
    "                CAST($embed as FLOAT[1024])\n",
    "            ) AS result_distance\n",
    "        ORDER BY result_distance ASC\n",
    "    \"\"\"\n",
    "    if limit > 0:\n",
    "        sql += f\" LIMIT {limit};\"\n",
    "    else:\n",
    "        sql += \";\"\n",
    "    result = duckdb.execute(sql, {\"embed\": query_embed}).fetch_df()\n",
    "    result['result_text'] = result.apply(lambda row: row[row['result_question_id']], axis=1)\n",
    "    return result\n",
    "\n",
    "def search_display(q: str, df: pd.DataFrame, limit: int = 25):\n",
    "    result = search_df(q, df, limit)\n",
    "    for i, row in result.iterrows():\n",
    "        text = f\"({str(row['result_distance'])[:6]}) {row['result_text']}\"\n",
    "        display(md(text))\n"
   ]
  },
  {
   "cell_type": "code",
   "execution_count": null,
   "metadata": {},
   "outputs": [],
   "source": [
    "students = df[df.first_gen_coll_student == 1]\n",
    "search_display(\"athletics sports\", students)"
   ]
  },
  {
   "cell_type": "code",
   "execution_count": null,
   "metadata": {},
   "outputs": [],
   "source": []
  }
 ],
 "metadata": {
  "kernelspec": {
   "display_name": "Python 3 (ipykernel)",
   "language": "python",
   "name": "python3"
  },
  "language_info": {
   "codemirror_mode": {
    "name": "ipython",
    "version": 3
   },
   "file_extension": ".py",
   "mimetype": "text/x-python",
   "name": "python",
   "nbconvert_exporter": "python",
   "pygments_lexer": "ipython3",
   "version": "3.12.4"
  }
 },
 "nbformat": 4,
 "nbformat_minor": 4
}
