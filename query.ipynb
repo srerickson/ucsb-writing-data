{
 "cells": [
  {
   "cell_type": "code",
   "execution_count": 1,
   "metadata": {},
   "outputs": [
    {
     "name": "stderr",
     "output_type": "stream",
     "text": [
      "/home/seth/src/ucsb-writing-data/.venv/lib64/python3.12/site-packages/sentence_transformers/cross_encoder/CrossEncoder.py:11: TqdmWarning: IProgress not found. Please update jupyter and ipywidgets. See https://ipywidgets.readthedocs.io/en/stable/user_install.html\n",
      "  from tqdm.autonotebook import tqdm, trange\n"
     ]
    }
   ],
   "source": [
    "import pandas as pd\n",
    "from lib import search_df\n",
    "# dependencies may take a way to install the first time"
   ]
  },
  {
   "cell_type": "code",
   "execution_count": 2,
   "metadata": {},
   "outputs": [],
   "source": [
    "df = pd.read_csv(\"data/reflections.csv\")"
   ]
  },
  {
   "cell_type": "code",
   "execution_count": 3,
   "metadata": {},
   "outputs": [],
   "source": [
    "results = search_df(\"athletics sports\", df[df.first_gen_coll_student == 1])"
   ]
  },
  {
   "cell_type": "code",
   "execution_count": 4,
   "metadata": {},
   "outputs": [
    {
     "data": {
      "text/plain": [
       "'The subject \"stereotypes\" was mostly tackled during my rhetorical class. Each student had to make an argumentative speech about a topic that they liked and we had to \"pretend\" that we were a specific type of person. A big part of the assignment was to research what kinds of stereotypes we could face as the specific type of person. I choose to be me, a student athlete and I had in my speech I then had to break the barrier and shoe that the negative stereotypes about student athletes were false.'"
      ]
     },
     "metadata": {},
     "output_type": "display_data"
    },
    {
     "data": {
      "text/plain": [
       "'These student writing samples are not very similar to any writing that I have done in the past. Although I have responded to scholarly topics I believe that I would have a bit of a hard time applying a rhetorical approach to the reading and responding to it with my own personal research. Previous experiences in the classroom such as extensive research projects, and argumentative essays have given me a familiar presence around writing samples, such as the ones provided. Conducting research on why women sports are less popularized has helped familiarize myself with voicing my opinion to reflect on the misconceptions of why toxic misogynic affects the viewing of these women sports. This task has helped me understand the idea of pursuing an interest in a topic, and understand why their are many taboos regarding a sport.\\xa0'"
      ]
     },
     "metadata": {},
     "output_type": "display_data"
    },
    {
     "data": {
      "text/plain": [
       "'In the summer of 2016, I embarked on my golf journey. I transformed myself from a novice who consistently missed striking the golf ball at my local driving to succeeding in the gruesome tryout at the blustering Sandpiper golf club for the UCSB golf team Tryout. My journey to join the golf team provides me with the life context, and the reading in school provides me with the academic experience of \"How to Read Like a Writer\" and \"understanding Genre in a rhetorical system.\" As a golfer, much like any other athlete, I would watch many highlights and documentaries of great players like Tiger Woods and Dustin Johnson, trying to figure out the underlying reason behind the type of shot and the choices they would make. Why do they usually hit the ball high in the United States while keeping it under the howling wind on the British links? The decision to go aggressive or defensive depends on the player\\'s standing and the pressure to lead the tournament or chase the leader. One notable example is Tiger Woods\\' play on'"
      ]
     },
     "metadata": {},
     "output_type": "display_data"
    },
    {
     "data": {
      "text/plain": [
       "'Firstly, the \"Memory Project\" would be the easiest assignment to me because in ninth grade English honours I had an assignment very similar to this one. In this assignment I wrote about my 18 and under boys water polo practice that I went to as a 13 year old girl who weighed no more than 110 pounds. I related this situation to my identity today because it taught me to not be intimidated by individuals who are more powerful than I am. Although I did not have to site a secondary source, and epigraph or provide a picture, I did have to site a primary source. My primary source was the coach of the 18 and under boys who initially wanted me to practice with his team.\\xa0\\r\\n\\r\\nDuring my time in AP Lang. and Comp. and AP Literature, I have written an extensive amount of response essays that required an audience, prewriting, writing strategies and a thesis that connects to the whole essay. For example, during\\xa0AP Lang. and Comp. one of our assignments were to write a response essay on \"The Plastic Pink Flamingo\".\\xa0\\r\\n\\r\\nRhetorical'"
      ]
     },
     "metadata": {},
     "output_type": "display_data"
    },
    {
     "data": {
      "text/plain": [
       "'For IB English my senior year, we had to write about an object that really changed our lives and had a great impact on us, I chose a soccer ball. I chose this soccer ball because it really changed my life, sophomore year my grandpa died, during soccer conditioning. I got hurt that day, October 17, 2019, I remember it very well because all that happened and I wasn\\'t able to play for soccer that year. I wrote on how I recovered from my injury and I started training again and I just connected with the soccer ball, \\xa0felt like a magician. I\\'ve never played soccer like that in my life so I was super excited and couldn\\'t wait for the next season. I used the soccer ball as a gateway for happiness even after everything that happened to me, I still somehow found the light and it was shinning bright, ever since then I enjoyed soccer and it is something I adore and don\\'t think of letting go. This is related to the \"Memory Project\" \\xa0because it is something that is now a part of my identity and is something so vivid to me'"
      ]
     },
     "metadata": {},
     "output_type": "display_data"
    },
    {
     "data": {
      "text/plain": [
       "0    None\n",
       "1    None\n",
       "2    None\n",
       "3    None\n",
       "4    None\n",
       "Name: result_text, dtype: object"
      ]
     },
     "execution_count": 4,
     "metadata": {},
     "output_type": "execute_result"
    }
   ],
   "source": [
    "results.head().result_text.apply(lambda t: display(t))"
   ]
  },
  {
   "cell_type": "code",
   "execution_count": null,
   "metadata": {},
   "outputs": [],
   "source": []
  },
  {
   "cell_type": "code",
   "execution_count": null,
   "metadata": {},
   "outputs": [],
   "source": []
  }
 ],
 "metadata": {
  "kernelspec": {
   "display_name": "Python 3 (ipykernel)",
   "language": "python",
   "name": "python3"
  },
  "language_info": {
   "codemirror_mode": {
    "name": "ipython",
    "version": 3
   },
   "file_extension": ".py",
   "mimetype": "text/x-python",
   "name": "python",
   "nbconvert_exporter": "python",
   "pygments_lexer": "ipython3",
   "version": "3.12.4"
  }
 },
 "nbformat": 4,
 "nbformat_minor": 4
}
