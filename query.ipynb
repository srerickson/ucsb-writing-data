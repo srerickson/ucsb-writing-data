{
 "cells": [
  {
   "cell_type": "code",
   "execution_count": 1,
   "metadata": {},
   "outputs": [
    {
     "name": "stderr",
     "output_type": "stream",
     "text": [
      "/Users/serickson-local/src/ucsb-writing-data/.venv/lib/python3.12/site-packages/sentence_transformers/cross_encoder/CrossEncoder.py:11: TqdmExperimentalWarning: Using `tqdm.autonotebook.tqdm` in notebook mode. Use `tqdm.tqdm` instead to force console mode (e.g. in jupyter console)\n",
      "  from tqdm.autonotebook import tqdm, trange\n"
     ]
    }
   ],
   "source": [
    "import pandas as pd\n",
    "from lib import search_display, search_df"
   ]
  },
  {
   "cell_type": "code",
   "execution_count": 2,
   "metadata": {},
   "outputs": [],
   "source": [
    "# import reflections data\n",
    "df = pd.read_csv(\"data/reflections.csv\")\n",
    "\n",
    "## pre-filtering: query a subset of the reflections (optional)\n",
    "#\n",
    "## example: subset df to students from a specific department\n",
    "# df = df[ df.DEPT0 == \"EEMB/MCDB\"]\n",
    "#\n",
    "## example: subset df to first gen students in a specific department\n",
    "# df = df[ (df.DEPT0 == \"EEMB/MCDB\") & (df.first_gen_coll_student == 1)]"
   ]
  },
  {
   "cell_type": "code",
   "execution_count": 3,
   "metadata": {},
   "outputs": [
    {
     "data": {
      "text/markdown": [
       "(distance: 0.78, perm: Student1392) Rhetorical analysis had us looking at topics such as analyzing what we read having us go into a deeper understanding as to why an author uses specific language in order to demonstrate and emphasize different aspects of the story. It also had me looking and understanding the genre in order to better understand why said emphasize was used in certain parts and looking at things such as word choice that best fits and makes up the genre."
      ],
      "text/plain": [
       "<IPython.core.display.Markdown object>"
      ]
     },
     "metadata": {},
     "output_type": "display_data"
    },
    {
     "data": {
      "text/markdown": [
       "(distance: 0.79, perm: Student705) The Rhetorical Analysis is something I'm very comfortable with. In school we used political speeches, or even literature pieces, poems, etc. to analyze the speaker's use of rhetorical devices, language, tone, and theme. These are all key aspects in determining and evaluating how and why the speaker intends to reach his/her goal. I know the assignment would entitle a substantial use of commentary along with identifying and analyzing the author's use of rhetoric. The Genre Translation assignment however, was much more confusing. I have some experience with research papers and overall synthesis writing but it's not as evident as the Rhetorical Analysis assignment. "
      ],
      "text/plain": [
       "<IPython.core.display.Markdown object>"
      ]
     },
     "metadata": {},
     "output_type": "display_data"
    }
   ],
   "source": [
    "# search using OpenAI and display 2 results\n",
    "search_display(\"rhetorical analysis\", df, limit=2, model=\"openai\")"
   ]
  },
  {
   "cell_type": "code",
   "execution_count": 4,
   "metadata": {},
   "outputs": [
    {
     "data": {
      "text/markdown": [
       "(distance: 9.68, perm: Student2420) In my high school writing courses we heavily practiced rhetorical analysis. One memorable instance was when my class did a rhetorical analysis of Narrative of the Life of Fredrick Douglass. That was the first time I was introduced to rhetorical analysis. I was instructed to select a passage and to write a brief paragraph about the author's message, intended audience, context, and rhetoric used. This was all to be achieved with clarity through a strong claim and supporting evidence. Many of my following assignments relating to rhetorical analysis developed my ability to analyze passages as well as constructing my own reflections. "
      ],
      "text/plain": [
       "<IPython.core.display.Markdown object>"
      ]
     },
     "metadata": {},
     "output_type": "display_data"
    },
    {
     "data": {
      "text/markdown": [
       "(distance: 9.98, perm: Student342) The assignment Rhetorical Analysis asks to \"analyze how the rhetorical context influences the way the text is written or designed.\" In my junior year of high school, my English teacher would have us read DBQs of old presidential speeches during times of hardship or watch more recent famous speeches such as Greta Thunberg use her voice to bring a sense of urgency and awareness to global warming. We then had to identify the pathos, logos, and ethos of the texts. In addition, in my AP European History class, we would read written accounts almost everyday, analyzing stating its historical value and deducing cause and effect. These experiences I believe have prepared me for successfully completing assignments like Rhetorical Analysis as I have learned the importance of the role of context in important speeches and texts in my classes. Furthermore, the Response essay wants the student to relate a read world issue to themselves in an argumentative essay. Throughout school I have written many argumentative essays, on"
      ],
      "text/plain": [
       "<IPython.core.display.Markdown object>"
      ]
     },
     "metadata": {},
     "output_type": "display_data"
    }
   ],
   "source": [
    "# search using mxbai (local model) and display 2 results\n",
    "search_display(\"rhetorical analysis\", df, limit=2, model=\"mxbai\")"
   ]
  },
  {
   "cell_type": "code",
   "execution_count": 5,
   "metadata": {},
   "outputs": [
    {
     "data": {
      "text/html": [
       "<div>\n",
       "<style scoped>\n",
       "    .dataframe tbody tr th:only-of-type {\n",
       "        vertical-align: middle;\n",
       "    }\n",
       "\n",
       "    .dataframe tbody tr th {\n",
       "        vertical-align: top;\n",
       "    }\n",
       "\n",
       "    .dataframe thead th {\n",
       "        text-align: right;\n",
       "    }\n",
       "</style>\n",
       "<table border=\"1\" class=\"dataframe\">\n",
       "  <thead>\n",
       "    <tr style=\"text-align: right;\">\n",
       "      <th></th>\n",
       "      <th>perm</th>\n",
       "      <th>survey_50</th>\n",
       "      <th>HSGPA</th>\n",
       "      <th>student_selection</th>\n",
       "      <th>final_placement</th>\n",
       "      <th>auto_read</th>\n",
       "      <th>cwp_quarter</th>\n",
       "      <th>data_permission</th>\n",
       "      <th>language</th>\n",
       "      <th>PR_quarter</th>\n",
       "      <th>...</th>\n",
       "      <th>EOPGRP</th>\n",
       "      <th>Gender</th>\n",
       "      <th>ETH_GRP</th>\n",
       "      <th>ETH</th>\n",
       "      <th>DEPT0</th>\n",
       "      <th>first_gen_coll_student</th>\n",
       "      <th>embedding</th>\n",
       "      <th>result_question_id</th>\n",
       "      <th>result_distance</th>\n",
       "      <th>result_text</th>\n",
       "    </tr>\n",
       "  </thead>\n",
       "  <tbody>\n",
       "    <tr>\n",
       "      <th>0</th>\n",
       "      <td>Student1392</td>\n",
       "      <td>41.0</td>\n",
       "      <td>4.14</td>\n",
       "      <td>W2</td>\n",
       "      <td>W1</td>\n",
       "      <td>read</td>\n",
       "      <td>F21</td>\n",
       "      <td>My data collected as part of this project may ...</td>\n",
       "      <td>I am comfortable using multiple languages, inc...</td>\n",
       "      <td>W23</td>\n",
       "      <td>...</td>\n",
       "      <td>NOT_EOP</td>\n",
       "      <td>F</td>\n",
       "      <td>2</td>\n",
       "      <td>Chicano</td>\n",
       "      <td>Chemistry and Biochemistry</td>\n",
       "      <td>1</td>\n",
       "      <td>[0.012076706, 0.005895249, -0.06092483, -0.027...</td>\n",
       "      <td>r1</td>\n",
       "      <td>0.787174</td>\n",
       "      <td>Rhetorical analysis had us looking at topics s...</td>\n",
       "    </tr>\n",
       "    <tr>\n",
       "      <th>1</th>\n",
       "      <td>Student55</td>\n",
       "      <td>39.0</td>\n",
       "      <td>3.81</td>\n",
       "      <td>W1</td>\n",
       "      <td>W1</td>\n",
       "      <td>auto</td>\n",
       "      <td>M2-22</td>\n",
       "      <td>My data collected as part of this project may ...</td>\n",
       "      <td>I am comfortable using multiple languages, inc...</td>\n",
       "      <td>None</td>\n",
       "      <td>...</td>\n",
       "      <td>NOT_EOP</td>\n",
       "      <td>F</td>\n",
       "      <td>2</td>\n",
       "      <td>Chicano</td>\n",
       "      <td>EEMB/MCDB</td>\n",
       "      <td>1</td>\n",
       "      <td>[0.010632173, -0.003921555, -0.04587798, -0.02...</td>\n",
       "      <td>r2</td>\n",
       "      <td>0.816911</td>\n",
       "      <td>The \"Rhetorical Analysis\" assignment was simil...</td>\n",
       "    </tr>\n",
       "    <tr>\n",
       "      <th>2</th>\n",
       "      <td>Student1282</td>\n",
       "      <td>48.0</td>\n",
       "      <td>4.04</td>\n",
       "      <td>W2</td>\n",
       "      <td>W2</td>\n",
       "      <td>auto</td>\n",
       "      <td>M1-21</td>\n",
       "      <td>My data collected as part of this project may ...</td>\n",
       "      <td>I am most comfortable using English.</td>\n",
       "      <td>None</td>\n",
       "      <td>...</td>\n",
       "      <td>EOP</td>\n",
       "      <td>F</td>\n",
       "      <td>4</td>\n",
       "      <td>Asian</td>\n",
       "      <td>Global Studies</td>\n",
       "      <td>1</td>\n",
       "      <td>[0.019386007, -0.0035050327, -0.044921402, -0....</td>\n",
       "      <td>r2</td>\n",
       "      <td>0.824663</td>\n",
       "      <td>I am very familiar with these assignments, esp...</td>\n",
       "    </tr>\n",
       "    <tr>\n",
       "      <th>3</th>\n",
       "      <td>Student1190</td>\n",
       "      <td>37.0</td>\n",
       "      <td>4.00</td>\n",
       "      <td>W1</td>\n",
       "      <td>W1</td>\n",
       "      <td>auto</td>\n",
       "      <td>F21</td>\n",
       "      <td>My data collected as part of this project may ...</td>\n",
       "      <td>I am most comfortable using English.</td>\n",
       "      <td>None</td>\n",
       "      <td>...</td>\n",
       "      <td>EOP</td>\n",
       "      <td>M</td>\n",
       "      <td>2</td>\n",
       "      <td>Chicano</td>\n",
       "      <td>College of Letters and Science</td>\n",
       "      <td>1</td>\n",
       "      <td>[0.023849348, -0.0019019855, -0.024302486, -0....</td>\n",
       "      <td>r2</td>\n",
       "      <td>0.838037</td>\n",
       "      <td>I can only speak toward rhetorical analysis, a...</td>\n",
       "    </tr>\n",
       "    <tr>\n",
       "      <th>4</th>\n",
       "      <td>Student3238</td>\n",
       "      <td>42.0</td>\n",
       "      <td>4.16</td>\n",
       "      <td>W2</td>\n",
       "      <td>W2</td>\n",
       "      <td>auto</td>\n",
       "      <td>M2-23</td>\n",
       "      <td>My data collected as part of this project may ...</td>\n",
       "      <td>I am most comfortable using English.</td>\n",
       "      <td>None</td>\n",
       "      <td>...</td>\n",
       "      <td>EOP</td>\n",
       "      <td>F</td>\n",
       "      <td>4</td>\n",
       "      <td>Asian</td>\n",
       "      <td>College of Letters and Science</td>\n",
       "      <td>1</td>\n",
       "      <td>[-0.010593441, -0.0019031311, -0.06975225, -0....</td>\n",
       "      <td>r2</td>\n",
       "      <td>0.841480</td>\n",
       "      <td>The \"Rhetorical Analysis\" assignment has a res...</td>\n",
       "    </tr>\n",
       "  </tbody>\n",
       "</table>\n",
       "<p>5 rows × 24 columns</p>\n",
       "</div>"
      ],
      "text/plain": [
       "          perm  survey_50  HSGPA student_selection final_placement auto_read  \\\n",
       "0  Student1392       41.0   4.14                W2              W1      read   \n",
       "1    Student55       39.0   3.81                W1              W1      auto   \n",
       "2  Student1282       48.0   4.04                W2              W2      auto   \n",
       "3  Student1190       37.0   4.00                W1              W1      auto   \n",
       "4  Student3238       42.0   4.16                W2              W2      auto   \n",
       "\n",
       "  cwp_quarter                                    data_permission  \\\n",
       "0         F21  My data collected as part of this project may ...   \n",
       "1       M2-22  My data collected as part of this project may ...   \n",
       "2       M1-21  My data collected as part of this project may ...   \n",
       "3         F21  My data collected as part of this project may ...   \n",
       "4       M2-23  My data collected as part of this project may ...   \n",
       "\n",
       "                                            language PR_quarter  ...   EOPGRP  \\\n",
       "0  I am comfortable using multiple languages, inc...        W23  ...  NOT_EOP   \n",
       "1  I am comfortable using multiple languages, inc...       None  ...  NOT_EOP   \n",
       "2               I am most comfortable using English.       None  ...      EOP   \n",
       "3               I am most comfortable using English.       None  ...      EOP   \n",
       "4               I am most comfortable using English.       None  ...      EOP   \n",
       "\n",
       "  Gender ETH_GRP      ETH                           DEPT0  \\\n",
       "0      F       2  Chicano      Chemistry and Biochemistry   \n",
       "1      F       2  Chicano                       EEMB/MCDB   \n",
       "2      F       4    Asian                  Global Studies   \n",
       "3      M       2  Chicano  College of Letters and Science   \n",
       "4      F       4    Asian  College of Letters and Science   \n",
       "\n",
       "  first_gen_coll_student                                          embedding  \\\n",
       "0                      1  [0.012076706, 0.005895249, -0.06092483, -0.027...   \n",
       "1                      1  [0.010632173, -0.003921555, -0.04587798, -0.02...   \n",
       "2                      1  [0.019386007, -0.0035050327, -0.044921402, -0....   \n",
       "3                      1  [0.023849348, -0.0019019855, -0.024302486, -0....   \n",
       "4                      1  [-0.010593441, -0.0019031311, -0.06975225, -0....   \n",
       "\n",
       "  result_question_id result_distance  \\\n",
       "0                 r1        0.787174   \n",
       "1                 r2        0.816911   \n",
       "2                 r2        0.824663   \n",
       "3                 r2        0.838037   \n",
       "4                 r2        0.841480   \n",
       "\n",
       "                                         result_text  \n",
       "0  Rhetorical analysis had us looking at topics s...  \n",
       "1  The \"Rhetorical Analysis\" assignment was simil...  \n",
       "2  I am very familiar with these assignments, esp...  \n",
       "3  I can only speak toward rhetorical analysis, a...  \n",
       "4  The \"Rhetorical Analysis\" assignment has a res...  \n",
       "\n",
       "[5 rows x 24 columns]"
      ]
     },
     "execution_count": 5,
     "metadata": {},
     "output_type": "execute_result"
    }
   ],
   "source": [
    "# output full table (results only include responses from firsts gen students)\n",
    "result = search_df(\"rhetorical analysis\", df[df.first_gen_coll_student == 1], model=\"openai\")\n",
    "# print first few rows\n",
    "result.head()"
   ]
  },
  {
   "cell_type": "code",
   "execution_count": null,
   "metadata": {},
   "outputs": [],
   "source": []
  }
 ],
 "metadata": {
  "kernelspec": {
   "display_name": "Python 3 (ipykernel)",
   "language": "python",
   "name": "python3"
  },
  "language_info": {
   "codemirror_mode": {
    "name": "ipython",
    "version": 3
   },
   "file_extension": ".py",
   "mimetype": "text/x-python",
   "name": "python",
   "nbconvert_exporter": "python",
   "pygments_lexer": "ipython3",
   "version": "3.12.4"
  }
 },
 "nbformat": 4,
 "nbformat_minor": 4
}
