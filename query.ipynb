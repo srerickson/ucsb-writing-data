{
 "cells": [
  {
   "cell_type": "markdown",
   "metadata": {},
   "source": [
    "# Query Embeddings"
   ]
  },
  {
   "cell_type": "markdown",
   "metadata": {},
   "source": [
    "This notebook demonstrates how embeddings can be used to query the survey\n",
    "dataset. The raw data is read as a pandas data frame; the `search_display()`\n",
    "function prints text responses in the data frame that are most similar to a given\n",
    "prompt. This assumes embeddings have already been generated using\n",
    "`embeddings.py`."
   ]
  },
  {
   "cell_type": "code",
   "execution_count": 1,
   "metadata": {},
   "outputs": [],
   "source": [
    "import pandas as pd\n",
    "from lib import search_display"
   ]
  },
  {
   "cell_type": "code",
   "execution_count": 2,
   "metadata": {},
   "outputs": [],
   "source": [
    "# import raw survey data as a dataframe\n",
    "df = pd.read_csv(\"data/reflections.csv\")\n",
    "\n",
    "## Optional pre-filtering\n",
    "#\n",
    "## example: subset df to students from a specific department\n",
    "# df = df[ df.DEPT0 == \"EEMB/MCDB\"]\n",
    "#\n",
    "## example: subset df to first gen students in a specific department\n",
    "# df = df[ (df.DEPT0 == \"EEMB/MCDB\") & (df.first_gen_coll_student == 1)]\n",
    "#"
   ]
  },
  {
   "cell_type": "code",
   "execution_count": 3,
   "metadata": {},
   "outputs": [
    {
     "data": {
      "text/markdown": [
       "(distance: 10.4, perm: Student601) I am not at all confident with my writing abilities. I feel that I have the knowledge and practice to be able to read texts and analyze them but when It comes down to writing and putting my thoughts into a worded format that is where I struggle. I have always excelled when it comes to math but I consistently fall short when it comes into comparison with my English. I feel that I need more time/teaching/review to be on par with college writing standards."
      ],
      "text/plain": [
       "<IPython.core.display.Markdown object>"
      ]
     },
     "metadata": {},
     "output_type": "display_data"
    },
    {
     "data": {
      "text/markdown": [
       "(distance: 10.7, perm: Student2118) I've always had a difficult time writing and expressing my thoughts through words. Especially when it comes to storytelling, I'm just not fully confident in my writing skills. I look back at my previous writing and I only feel confident in two essays I've written. With my attention span, I also don't tend to enjoy reading, because I have a difficult time comprehending some texts and end up reading without consuming the information presented. I want to get serious about my writing and become better, so I just don't see myself starting off with writing 2. I think that would just stress me out and discourage me. "
      ],
      "text/plain": [
       "<IPython.core.display.Markdown object>"
      ]
     },
     "metadata": {},
     "output_type": "display_data"
    },
    {
     "data": {
      "text/markdown": [
       "(distance: 11.0, perm: Student2135) I think I am not prepared to write the text like this. I don't think I have a perfect writing skills to complete a paragraph like that"
      ],
      "text/plain": [
       "<IPython.core.display.Markdown object>"
      ]
     },
     "metadata": {},
     "output_type": "display_data"
    },
    {
     "data": {
      "text/markdown": [
       "(distance: 11.3, perm: Student1216) Although I have learned how to become a better writer in high school, I am not as comfortable and confident as I hope to be in writing. It takes me a lot of time and extra help to write a decent paper. It is doable but I believe that extra practice will do me good. I believe that I should take every opportunity to improve my writing to feel confident and comfortable in doing any writing assignment.  "
      ],
      "text/plain": [
       "<IPython.core.display.Markdown object>"
      ]
     },
     "metadata": {},
     "output_type": "display_data"
    },
    {
     "data": {
      "text/markdown": [
       "(distance: 11.3, perm: Student2527) I am not confident enough in my abilities to succeed in Writing 2, I think that the added support of taking Writing 1, it would benefit me more than immediately going into Writing 2. I have struggled in the past when it comes to reading certain fictional texts and understanding the authors meaning and thereby making it difficult for me to write full essays analyzing the authors purpose or compare then to other texts. I am confident in my ability in reading any sort of non-fiction text and writing any sort of essay on them. "
      ],
      "text/plain": [
       "<IPython.core.display.Markdown object>"
      ]
     },
     "metadata": {},
     "output_type": "display_data"
    },
    {
     "data": {
      "text/markdown": [
       "(distance: 11.3, perm: Student3041) I think that while I have been confident with my writing skills in the past, I would want something that would help me ease into college level work. It would definitely make me more comfortable and give me a better transition. It would also help me become more confident with the work that I produce as college student."
      ],
      "text/plain": [
       "<IPython.core.display.Markdown object>"
      ]
     },
     "metadata": {},
     "output_type": "display_data"
    },
    {
     "data": {
      "text/markdown": [
       "(distance: 11.3, perm: Student833) I have done a few responses to documents and speeches by writing my own analysis papers, but I do not feel extremely confident on the process or on my ability to achieve all of an assignments criteria with the knowledge that I have now."
      ],
      "text/plain": [
       "<IPython.core.display.Markdown object>"
      ]
     },
     "metadata": {},
     "output_type": "display_data"
    },
    {
     "data": {
      "text/markdown": [
       "(distance: 11.4, perm: Student2227) I think that my writing and english skills would need some refining and I am not as confident to take writing 2."
      ],
      "text/plain": [
       "<IPython.core.display.Markdown object>"
      ]
     },
     "metadata": {},
     "output_type": "display_data"
    },
    {
     "data": {
      "text/markdown": [
       "(distance: 11.4, perm: Student1170) The lack of writing and reading over the past year and a half has made me doubt my abilities and feel less confident with my writing. I do think I'd be able to handle Writing 2, but I would feel more comfortable starting with readings and writings that I've seen and done in the past. "
      ],
      "text/plain": [
       "<IPython.core.display.Markdown object>"
      ]
     },
     "metadata": {},
     "output_type": "display_data"
    },
    {
     "data": {
      "text/markdown": [
       "(distance: 11.5, perm: Student2871) Though I have had experience with most of the course material in Writing 1, I am still not confident with my writing as I've stated that I have trouble putting thoughts to pen. I would like to push myself and start with Writing 2, but I fear that I may not be able to keep up with my peers. I hope that if I am  to be placed in Writing 1, that I would get the feedback I need to progress at an acceptable level."
      ],
      "text/plain": [
       "<IPython.core.display.Markdown object>"
      ]
     },
     "metadata": {},
     "output_type": "display_data"
    }
   ],
   "source": [
    "# search using mxbai and display 10 results\n",
    "search_display(\"not confident with my writing skills\", df, limit=10, model=\"mxbai\")"
   ]
  },
  {
   "cell_type": "code",
   "execution_count": 4,
   "metadata": {},
   "outputs": [
    {
     "data": {
      "text/markdown": [
       "(distance: 0.70, perm: Student121) I feel very confident about my writing skills."
      ],
      "text/plain": [
       "<IPython.core.display.Markdown object>"
      ]
     },
     "metadata": {},
     "output_type": "display_data"
    },
    {
     "data": {
      "text/markdown": [
       "(distance: 0.81, perm: Student2227) I think that my writing and english skills would need some refining and I am not as confident to take writing 2."
      ],
      "text/plain": [
       "<IPython.core.display.Markdown object>"
      ]
     },
     "metadata": {},
     "output_type": "display_data"
    },
    {
     "data": {
      "text/markdown": [
       "(distance: 0.84, perm: Student601) I am not at all confident with my writing abilities. I feel that I have the knowledge and practice to be able to read texts and analyze them but when It comes down to writing and putting my thoughts into a worded format that is where I struggle. I have always excelled when it comes to math but I consistently fall short when it comes into comparison with my English. I feel that I need more time/teaching/review to be on par with college writing standards."
      ],
      "text/plain": [
       "<IPython.core.display.Markdown object>"
      ]
     },
     "metadata": {},
     "output_type": "display_data"
    },
    {
     "data": {
      "text/markdown": [
       "(distance: 0.88, perm: Student1216) Although I have learned how to become a better writer in high school, I am not as comfortable and confident as I hope to be in writing. It takes me a lot of time and extra help to write a decent paper. It is doable but I believe that extra practice will do me good. I believe that I should take every opportunity to improve my writing to feel confident and comfortable in doing any writing assignment.  "
      ],
      "text/plain": [
       "<IPython.core.display.Markdown object>"
      ]
     },
     "metadata": {},
     "output_type": "display_data"
    },
    {
     "data": {
      "text/markdown": [
       "(distance: 0.90, perm: Student2135) I think I am not prepared to write the text like this. I don't think I have a perfect writing skills to complete a paragraph like that"
      ],
      "text/plain": [
       "<IPython.core.display.Markdown object>"
      ]
     },
     "metadata": {},
     "output_type": "display_data"
    },
    {
     "data": {
      "text/markdown": [
       "(distance: 0.91, perm: Student2527) I am not confident enough in my abilities to succeed in Writing 2, I think that the added support of taking Writing 1, it would benefit me more than immediately going into Writing 2. I have struggled in the past when it comes to reading certain fictional texts and understanding the authors meaning and thereby making it difficult for me to write full essays analyzing the authors purpose or compare then to other texts. I am confident in my ability in reading any sort of non-fiction text and writing any sort of essay on them. "
      ],
      "text/plain": [
       "<IPython.core.display.Markdown object>"
      ]
     },
     "metadata": {},
     "output_type": "display_data"
    },
    {
     "data": {
      "text/markdown": [
       "(distance: 0.92, perm: Student2318)      Although I have had a lot of writing experience in the past I feel like I still have room for improvement. Reading others essays and analysis it does not feel like my writing skills are up to their level. Although I believe my ability to read and comprehend passages is good enough I'm not at the point where I can express my thoughts about it in way that's academically sound. I also have trouble with punctuation while writing my essays. In order to get where I feel I need to be I believe I need more time to practice"
      ],
      "text/plain": [
       "<IPython.core.display.Markdown object>"
      ]
     },
     "metadata": {},
     "output_type": "display_data"
    },
    {
     "data": {
      "text/markdown": [
       "(distance: 0.92, perm: Student2118) I've always had a difficult time writing and expressing my thoughts through words. Especially when it comes to storytelling, I'm just not fully confident in my writing skills. I look back at my previous writing and I only feel confident in two essays I've written. With my attention span, I also don't tend to enjoy reading, because I have a difficult time comprehending some texts and end up reading without consuming the information presented. I want to get serious about my writing and become better, so I just don't see myself starting off with writing 2. I think that would just stress me out and discourage me. "
      ],
      "text/plain": [
       "<IPython.core.display.Markdown object>"
      ]
     },
     "metadata": {},
     "output_type": "display_data"
    },
    {
     "data": {
      "text/markdown": [
       "(distance: 0.92, perm: Student1310) Due to the small high school I attended, I would feel as thought my writing skills are lacking compared to my peers. As well as the idea of two of the most important years to develop my writing skills being affected by the on going pandemic. My writing skills are lacking in some fields, such as developing a clear thesis and being able to communicate and express thoughts and explanations for claims. As my writing skills are not the best to start out with, I feel as thought the Writing one course would hep me polish my writing skills off. This course I feel would be able to dot my i's and cross my t's so I can continue to develop my writing skills."
      ],
      "text/plain": [
       "<IPython.core.display.Markdown object>"
      ]
     },
     "metadata": {},
     "output_type": "display_data"
    },
    {
     "data": {
      "text/markdown": [
       "(distance: 0.92, perm: Student2871) Though I have had experience with most of the course material in Writing 1, I am still not confident with my writing as I've stated that I have trouble putting thoughts to pen. I would like to push myself and start with Writing 2, but I fear that I may not be able to keep up with my peers. I hope that if I am  to be placed in Writing 1, that I would get the feedback I need to progress at an acceptable level."
      ],
      "text/plain": [
       "<IPython.core.display.Markdown object>"
      ]
     },
     "metadata": {},
     "output_type": "display_data"
    }
   ],
   "source": [
    "# search using openai embeddings. The OpenAI API is used to get the prompt embedding.\n",
    "search_display(\"not confident with my writing skills\", df, limit=10, model=\"openai\")"
   ]
  }
 ],
 "metadata": {
  "kernelspec": {
   "display_name": "Python 3 (ipykernel)",
   "language": "python",
   "name": "python3"
  },
  "language_info": {
   "codemirror_mode": {
    "name": "ipython",
    "version": 3
   },
   "file_extension": ".py",
   "mimetype": "text/x-python",
   "name": "python",
   "nbconvert_exporter": "python",
   "pygments_lexer": "ipython3",
   "version": "3.12.7"
  }
 },
 "nbformat": 4,
 "nbformat_minor": 4
}
