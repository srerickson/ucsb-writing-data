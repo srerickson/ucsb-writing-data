{
 "cells": [
  {
   "cell_type": "code",
   "execution_count": 1,
   "metadata": {},
   "outputs": [
    {
     "name": "stderr",
     "output_type": "stream",
     "text": [
      "/Users/serickson-local/src/ucsb-writing-data/.venv/lib/python3.12/site-packages/sentence_transformers/cross_encoder/CrossEncoder.py:11: TqdmExperimentalWarning: Using `tqdm.autonotebook.tqdm` in notebook mode. Use `tqdm.tqdm` instead to force console mode (e.g. in jupyter console)\n",
      "  from tqdm.autonotebook import tqdm, trange\n"
     ]
    }
   ],
   "source": [
    "import pandas as pd\n",
    "from lib import search_df\n",
    "from IPython.display import Markdown as md\n"
   ]
  },
  {
   "cell_type": "code",
   "execution_count": 2,
   "metadata": {},
   "outputs": [],
   "source": [
    "def search_display(q: str, df: pd.DataFrame, limit: int = 25):\n",
    "    result = search_df(q, df, limit)\n",
    "    for i, row in result.iterrows():\n",
    "        text = f\"({str(row['result_distance'])[:6]}) {row['result_text']}\"\n",
    "        display(md(text))"
   ]
  },
  {
   "cell_type": "code",
   "execution_count": 3,
   "metadata": {},
   "outputs": [
    {
     "data": {
      "text/markdown": [
       "(14.979) The subject \"stereotypes\" was mostly tackled during my rhetorical class. Each student had to make an argumentative speech about a topic that they liked and we had to \"pretend\" that we were a specific type of person. A big part of the assignment was to research what kinds of stereotypes we could face as the specific type of person. I choose to be me, a student athlete and I had in my speech I then had to break the barrier and shoe that the negative stereotypes about student athletes were false."
      ],
      "text/plain": [
       "<IPython.core.display.Markdown object>"
      ]
     },
     "metadata": {},
     "output_type": "display_data"
    },
    {
     "data": {
      "text/markdown": [
       "(15.034) These student writing samples are not very similar to any writing that I have done in the past. Although I have responded to scholarly topics I believe that I would have a bit of a hard time applying a rhetorical approach to the reading and responding to it with my own personal research. Previous experiences in the classroom such as extensive research projects, and argumentative essays have given me a familiar presence around writing samples, such as the ones provided. Conducting research on why women sports are less popularized has helped familiarize myself with voicing my opinion to reflect on the misconceptions of why toxic misogynic affects the viewing of these women sports. This task has helped me understand the idea of pursuing an interest in a topic, and understand why their are many taboos regarding a sport. "
      ],
      "text/plain": [
       "<IPython.core.display.Markdown object>"
      ]
     },
     "metadata": {},
     "output_type": "display_data"
    },
    {
     "data": {
      "text/markdown": [
       "(15.227) In the summer of 2016, I embarked on my golf journey. I transformed myself from a novice who consistently missed striking the golf ball at my local driving to succeeding in the gruesome tryout at the blustering Sandpiper golf club for the UCSB golf team Tryout. My journey to join the golf team provides me with the life context, and the reading in school provides me with the academic experience of \"How to Read Like a Writer\" and \"understanding Genre in a rhetorical system.\" As a golfer, much like any other athlete, I would watch many highlights and documentaries of great players like Tiger Woods and Dustin Johnson, trying to figure out the underlying reason behind the type of shot and the choices they would make. Why do they usually hit the ball high in the United States while keeping it under the howling wind on the British links? The decision to go aggressive or defensive depends on the player's standing and the pressure to lead the tournament or chase the leader. One notable example is Tiger Woods' play on"
      ],
      "text/plain": [
       "<IPython.core.display.Markdown object>"
      ]
     },
     "metadata": {},
     "output_type": "display_data"
    },
    {
     "data": {
      "text/markdown": [
       "(15.318) Firstly, the \"Memory Project\" would be the easiest assignment to me because in ninth grade English honours I had an assignment very similar to this one. In this assignment I wrote about my 18 and under boys water polo practice that I went to as a 13 year old girl who weighed no more than 110 pounds. I related this situation to my identity today because it taught me to not be intimidated by individuals who are more powerful than I am. Although I did not have to site a secondary source, and epigraph or provide a picture, I did have to site a primary source. My primary source was the coach of the 18 and under boys who initially wanted me to practice with his team. \r\n",
       "\r\n",
       "During my time in AP Lang. and Comp. and AP Literature, I have written an extensive amount of response essays that required an audience, prewriting, writing strategies and a thesis that connects to the whole essay. For example, during AP Lang. and Comp. one of our assignments were to write a response essay on \"The Plastic Pink Flamingo\". \r\n",
       "\r\n",
       "Rhetorical"
      ],
      "text/plain": [
       "<IPython.core.display.Markdown object>"
      ]
     },
     "metadata": {},
     "output_type": "display_data"
    },
    {
     "data": {
      "text/markdown": [
       "(15.326) For IB English my senior year, we had to write about an object that really changed our lives and had a great impact on us, I chose a soccer ball. I chose this soccer ball because it really changed my life, sophomore year my grandpa died, during soccer conditioning. I got hurt that day, October 17, 2019, I remember it very well because all that happened and I wasn't able to play for soccer that year. I wrote on how I recovered from my injury and I started training again and I just connected with the soccer ball,  felt like a magician. I've never played soccer like that in my life so I was super excited and couldn't wait for the next season. I used the soccer ball as a gateway for happiness even after everything that happened to me, I still somehow found the light and it was shinning bright, ever since then I enjoyed soccer and it is something I adore and don't think of letting go. This is related to the \"Memory Project\"  because it is something that is now a part of my identity and is something so vivid to me"
      ],
      "text/plain": [
       "<IPython.core.display.Markdown object>"
      ]
     },
     "metadata": {},
     "output_type": "display_data"
    },
    {
     "data": {
      "text/markdown": [
       "(15.335) None"
      ],
      "text/plain": [
       "<IPython.core.display.Markdown object>"
      ]
     },
     "metadata": {},
     "output_type": "display_data"
    },
    {
     "data": {
      "text/markdown": [
       "(15.457) I've never written an essay about a scholarly work before like the first assignment. I've only written essays about novels and plays regarding literary techniques/elements. However, I'm confident that I would be able to easily complete the second assignment. In my senior year of high school I took an AP Research class where I wrote a research paper over 20 pages long about a topic I was interested in by forming my own research question. My topic involved how participation in certain sports such as cross country has a role in the academic achievement of students. My paper used almost, if not all, the elements that were used in the second assignment. Where I had to create my own \"research experiment\" to find an answer to my research question about my topic. Which was \"Does participation in cross country affect the competitiveness of athletes, and can that predict academic achievement?\" I ended up interviewing athletes and non-athletes at my high school and giving them a Likert-Scale involving questions that hel"
      ],
      "text/plain": [
       "<IPython.core.display.Markdown object>"
      ]
     },
     "metadata": {},
     "output_type": "display_data"
    },
    {
     "data": {
      "text/markdown": [
       "(15.734) I don't have a lot of experience with these topics but have occasionally had to write on them. In the paper I wrote about Odessa, Texas, I had to shed light on the stereotypes of the football team and the cheerleaders. I contrasted the way the town expected them to act and how that related to our society today."
      ],
      "text/plain": [
       "<IPython.core.display.Markdown object>"
      ]
     },
     "metadata": {},
     "output_type": "display_data"
    },
    {
     "data": {
      "text/markdown": [
       "(15.746) I believe that the student writing samples are not too far off from ones I have produced in the past. Although the student writings were more persuasive than mine have been, I feel that if I got more experience and studied other writings more, I could get significantly better. I particularly relate with ChanChan Mao's writing because it discusses gender stereotypes. During my sophomore year English Honours class, I recall writing a paper on stereotypes relating to women in sports. In this paper I discussed that in many sports, women feel inferior to men due to the general genetic difference in strength and size. I argued in this paper that due to this obstacle many women face, women sports (such as water polo) require more intelligence and knowledge of the game because many women try to avoid \"muscling their way\" to score a goal. "
      ],
      "text/plain": [
       "<IPython.core.display.Markdown object>"
      ]
     },
     "metadata": {},
     "output_type": "display_data"
    },
    {
     "data": {
      "text/markdown": [
       "(15.893) These students' writings are similar to when I wrote an article comparing girls and boys lacrosse. This writing specifically has prepared me to write something like the writing on stereotypes because in my writing I talked about how the boys were always given more school support, more advantages, and more attention than the girls. Being able to write texts like these helped me improve my social skills because I was able to ask my teammate's opinoins. After writing this text on the difference between boys and girls lacrosse I was able to speak up for all my teammates and let everybody know how we, the girls felt. This experience will help me in the future to write texts like the student samples that were provided. "
      ],
      "text/plain": [
       "<IPython.core.display.Markdown object>"
      ]
     },
     "metadata": {},
     "output_type": "display_data"
    },
    {
     "data": {
      "text/markdown": [
       "(16.007) These student writing samples are very different from writings that I have done in the past because they are information based while I'm accustomed to writing analytical writings. I have written informational essays like that one while doing a research paper for my psychology class in 2022. I wrote about side effects and the negative connotations that come from CTE in athletes (specifically football players)."
      ],
      "text/plain": [
       "<IPython.core.display.Markdown object>"
      ]
     },
     "metadata": {},
     "output_type": "display_data"
    },
    {
     "data": {
      "text/markdown": [
       "(16.065) They are similar in which they follow a certain body format."
      ],
      "text/plain": [
       "<IPython.core.display.Markdown object>"
      ]
     },
     "metadata": {},
     "output_type": "display_data"
    },
    {
     "data": {
      "text/markdown": [
       "(16.095) they are similar"
      ],
      "text/plain": [
       "<IPython.core.display.Markdown object>"
      ]
     },
     "metadata": {},
     "output_type": "display_data"
    },
    {
     "data": {
      "text/markdown": [
       "(16.169) I related to the first text in many ways. One of these being sports and not only using ethos pathos logos in sports but in my writing. All of this helps appeal to the reader by using logic, feelings, and credibility through things such as evidence used in my previous writings to appeal to the reader. Now the second article might be a little more difficult for me. This style covered many different topics in a very short word count. At times I find myself to linger on certain topics for too long, however there isn't something someone can't get better at."
      ],
      "text/plain": [
       "<IPython.core.display.Markdown object>"
      ]
     },
     "metadata": {},
     "output_type": "display_data"
    },
    {
     "data": {
      "text/markdown": [
       "(16.173) I had a lot of writings that had to do with research, but I do not do many of gender stereotypes. One analysis paper that I did work on was the stereotypes in sports and how women should have the right to play whatever sport is right for them no matter the sport and how they are stereotyped extremely. I never respond to scholarly reading however. "
      ],
      "text/plain": [
       "<IPython.core.display.Markdown object>"
      ]
     },
     "metadata": {},
     "output_type": "display_data"
    },
    {
     "data": {
      "text/markdown": [
       "(16.223) Writing rhetorical analysis for advertisements and Michael Jordan's eulogy for Kobe Bryant have helped me gain skills and prepare me on how to properly complete the assignments presented here. Previous assignments required me to determine the appeals shown and evaluating whether or not the writer's choices were effective in their message. I had to analyze whether Mr. Joran used ethos, pathos, logos, or figurative language in order to convey his message. For advertisements I had to determine what emotion was being conveyed and what source of credibility was being shown in order to have buyers."
      ],
      "text/plain": [
       "<IPython.core.display.Markdown object>"
      ]
     },
     "metadata": {},
     "output_type": "display_data"
    },
    {
     "data": {
      "text/markdown": [
       "(16.325) Something that has prepared me to write an essay like the one ChanChan Mao wrote about Gender Stereotypes in the Computer Science field would be Yearbook. While I was in Yearbook I would always interview people and that would expose me to a lot of different opinions and ideas from all types of people. Some students were being interviewed for being outstanding in academics and some others for sports. Desert Ahana mentions in her paper that there are different types of intellectualism and not all people will always exceed inside a classroom, some others will shine in the field, track, etcetera. After hearing all those stories and putting myself in their shoes, I understood that we all have our strengths and that's what we should ultimately focus in, not in meeting society's standards. Not only that but the stereotype thing ChanChan mentions is something I could write about too. Because many people at my school had a certain stereotype for what they believed a Yearbook Editor In Chief should look like and as an"
      ],
      "text/plain": [
       "<IPython.core.display.Markdown object>"
      ]
     },
     "metadata": {},
     "output_type": "display_data"
    },
    {
     "data": {
      "text/markdown": [
       "(16.333) In my ERWC class last year, I read “Hidden Intellectualism” by Gerald Graff. This was a thought provoking read. I wrote an essay and a short summary responding to “Hidden Intellectualism.” In my response I shared why I agreed with Graff's argument. I used personal anecdotes and lots of logical reasoning to strengthen my stance. The author in \"It’s All in the Pedagogy\" takes a very similar stance as I did. My experience in reading texts like “Hidden Intellectualism” and responding to them with my own opinion have prepared me for writing texts like \"It’s All in the Pedagogy.\" The response in \"Gender Stereotypes and Learning Approaches in Computer Science\" is very similar to a short essay I wrote about gender differences in sports. For an AP Psychology project I wrote a paper about stereotypes and how it shapes people’s mentality. For this project I actually conducted an experiment. I dressed up like a boy and played cricket, which is an entirely masculine sport. I noted peoples reaction to my interest in cricke"
      ],
      "text/plain": [
       "<IPython.core.display.Markdown object>"
      ]
     },
     "metadata": {},
     "output_type": "display_data"
    },
    {
     "data": {
      "text/markdown": [
       "(16.349) Much like the Memory Project, some of the college applications I wrote last year share a very similar prompt and asked for the same questions. One prompt that stands out in my memories is \" describe a place I call home,\" which can not just be a place a call home but can be an object where I feel I belong home, or an activity where I feel like I belong. I used to play the piano every day, and when I was playing, I felt like that's where the spring of my creativity would flow and a place to express my feelings and emotions. I prepared for the response essay through the series of Argumentative essays I wrote during high school. I once read a report on the United States Golf Association about the increasing distance coming from new technologies and their effect on the golf course. Then I wrote an essay defending why it is beneficial for recreational golfers to have access to balls that fly further and the potential benefits of doing so. Lastly, during my research course in high school, I would often have to trans"
      ],
      "text/plain": [
       "<IPython.core.display.Markdown object>"
      ]
     },
     "metadata": {},
     "output_type": "display_data"
    },
    {
     "data": {
      "text/markdown": [
       "(16.398) My pasts experiences have not helped me prepare for reading text like these. When I was in high school we would only read short articles or readings in which I was able to understand most times. Other times I wouldn't be able to understand them because they were too long and I would forget most of the things I had read. We read books but those books would be easy to understand and were interesting to read in which why it kept my attention and I was able to understand them too well. One one those books was The New David Espinoza by Fred Aceves. This book was really interesting to me and was easy to understand. That was because I was reading it to understand why the character was doing steroids and the difficulties he was facing that lead him to that spot."
      ],
      "text/plain": [
       "<IPython.core.display.Markdown object>"
      ]
     },
     "metadata": {},
     "output_type": "display_data"
    },
    {
     "data": {
      "text/markdown": [
       "(16.421) Transitioning into UCSB is going to be an exciting and very different experience for me as a student. I went to a really small, charter high school where there were approximately 135 graduating seniors and I feel as though I want to move at a steady pace in my academics. I have always been an ambitious and hard working student that strived to take top classes at my school, however,  I want to make sure that I am comfortable my freshmen year. Thinking of doing club soccer, participating in clubs, all while maintaining grades come with have a manageable workload where I am understanding and learning new things at a comfortable pace as opposed to being totally confused like I feel like I would be in Writing 2. I feel as though I know a lot about the english language curriculum, however, I want to be comfortable in knowing that I know a basis of it but still learning new things. Having this idea, I feel as though I can accomplish this in Writing 1 as opposed to Writing 2. "
      ],
      "text/plain": [
       "<IPython.core.display.Markdown object>"
      ]
     },
     "metadata": {},
     "output_type": "display_data"
    },
    {
     "data": {
      "text/markdown": [
       "(16.440) Throughout high school, we were asked to read a multitude of books and articles and analyze their meaning through the form of writing. Bickmore's _Genre in the Wild _may seem a little bit more abstract and more unconventional of what was asked of in high school, however, the passages are fairly the same. Olivas' _Cupping the spark in our hands_ is more straight forward, as its clear direction is how students in their first year can learn how to write well-crafted research questions if they are taught how to do so, essentially the earlier the better. The past reading assignments that I have faced since then have prepared me to analyze passages such as these, as I am in my second year of college, my freshman classes furthered my knowledge of understanding passages and how to analyze them past the high school level. The courses that I have taken were very reading based, the majority of the class was spent reading the passage, analyzing information, and delivering it in a more concrete format."
      ],
      "text/plain": [
       "<IPython.core.display.Markdown object>"
      ]
     },
     "metadata": {},
     "output_type": "display_data"
    },
    {
     "data": {
      "text/markdown": [
       "(16.453) I would say that they are similar to what I have written in the past. In regards to disciplinary research analysis, I have taken IB Bussiness Management and IB Sports Exercise & Health Science which required an Internal Assessment (IA) to be written for each course. Each IA covered a concept learned in class that was further developed by a line of inquiry and was then supported by research and analysis. For IB Bussiness Management, I chose a company to research and posed a line of inquiry based on what my IA was focusing on. My line of inquiry was the following:\r\n",
       "\r\n",
       "SHOULD MCDONALD’S RAISE THEIR HOURLY WAGE IN ORDER TO INCREASE THE COMPANY’S EMPLOYEE SATISFACTION AND PRODUCTIVITY?\r\n",
       "\r\n",
       "This line of inquiry had to be supported by research, statistics, graphs, as well as various sources in order to determine whether it was true or false. With IB SEHS, I chose an experiment to conduct. My line of inquiry was the following:\r\n",
       "\r\n",
       "IS THERE A CORRELATION BETWEEN AN INDIVIDUAL’S GENDER AND LEVEL OF ATHLETIC ABILITY IN REGARDS T"
      ],
      "text/plain": [
       "<IPython.core.display.Markdown object>"
      ]
     },
     "metadata": {},
     "output_type": "display_data"
    },
    {
     "data": {
      "text/markdown": [
       "(16.664) Once I wrote an essay about Are S.T.E.M students just better than those non-S.T.E.M students. I was given some articles introducing the benefits of STEM and I was asked to write my own opinion on whether taking STEM prep classes makes a difference in high students' academic performance. I think this assignment is partly related to the one shown here because the topics of these two essays presented and the one I wrote about are all controversial and they all require personal experiences to support their arguments or statements. For these types of writing assignments, I have enough knowledge about the ongoing problems of society such as gender inequalities in certain areas to make my essay more informative."
      ],
      "text/plain": [
       "<IPython.core.display.Markdown object>"
      ]
     },
     "metadata": {},
     "output_type": "display_data"
    },
    {
     "data": {
      "text/markdown": [
       "(16.674) \"GENDER STEREOTYPES AND LEARNING APPROACHES IN COMPUTER SCIENCE\" IS A WRITING I AM VERY FAMILIAR WITH, AND I HAVE WRITTEN SOMETHING LIKE THIS BEFORE. MAO EXPLAINS HOW HER PASSION IS COMPUTER SCIENCE AND OVERALL HOW SHE CAN BEAT A STEREOTYPE THAT THE ENGINEERING FIELD WAS MADE FOR MEN. WITH THIS WRITING FORMAT, I HAVE WRITTEN A PERSONAL ESSAY SIMILAR TO THIS BEFORE. THE FORMAT INCLUDES AN INTRODUCTION, MANY BODY PARAGRAPHS AND A CONCLUSION, USING A GREAT AMOUNT OF PERSONAL EXPERIENCE AND EVIDENCE SHE HAS GATHERED TO GO AGAINST THE STEREOTYPE. SHE TALKED ABOUT HER APPROACH TO COMPUTER SCIENCE AND SHE EVEN INTERVIEWED HER FELLOW FEMALE COMPUTER SCIENCE PROFESSOR. I CAN RELATE THIS TO A WRITING EXPERIENCE I HAD MY JUNIOR YEAR, WHERE I CHOSE TO WRITE IN THE SCHOOLS NEWSPAPER ABOUT THE MISLEADING INFORMATION ABOUT CHEERLEADING.I EXPLAINED HOW CHEERLEADING IS IN FACT A SPORT AND HOW HARD EACH GIRL WORKS SUPER HARD IN ORDER TO BE ON THE SQUAD. IN THIS ARTICLE, I INTERVIEWED THE FOUR CAPTAINS FROM THE VARSITY SQUAD TH"
      ],
      "text/plain": [
       "<IPython.core.display.Markdown object>"
      ]
     },
     "metadata": {},
     "output_type": "display_data"
    }
   ],
   "source": [
    "df = pd.read_csv(\"data/reflections.csv\")\n",
    "search_display(\"athletics sports\", df[df.first_gen_coll_student == 1])"
   ]
  },
  {
   "cell_type": "code",
   "execution_count": null,
   "metadata": {},
   "outputs": [],
   "source": []
  }
 ],
 "metadata": {
  "kernelspec": {
   "display_name": "Python 3 (ipykernel)",
   "language": "python",
   "name": "python3"
  },
  "language_info": {
   "codemirror_mode": {
    "name": "ipython",
    "version": 3
   },
   "file_extension": ".py",
   "mimetype": "text/x-python",
   "name": "python",
   "nbconvert_exporter": "python",
   "pygments_lexer": "ipython3",
   "version": "3.12.4"
  }
 },
 "nbformat": 4,
 "nbformat_minor": 4
}
