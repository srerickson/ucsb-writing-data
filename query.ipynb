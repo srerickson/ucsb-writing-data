{
 "cells": [
  {
   "cell_type": "code",
   "execution_count": null,
   "metadata": {},
   "outputs": [],
   "source": [
    "import duckdb\n",
    "from pathlib import Path\n",
    "import pandas as pd\n",
    "from sentence_transformers import SentenceTransformer\n",
    "from typing import List, Any\n",
    "from IPython.display import Markdown as md"
   ]
  },
  {
   "cell_type": "code",
   "execution_count": null,
   "metadata": {},
   "outputs": [],
   "source": [
    "# source data: survey responses from students.\n",
    "df = pd.read_csv(Path(\"data\") / 'reflections.csv') \n",
    "\n",
    "# load the model for computing embeddings for query string\n",
    "model = SentenceTransformer(\"mixedbread-ai/mxbai-embed-large-v1\")\n",
    "\n",
    "# embeddings for the text responses in the survey data have been pre-computed\n",
    "embeddings_url = \"https://dreamlab-public.s3.us-west-2.amazonaws.com/sorapure/mxbai_embeddings.parquet\"\n",
    "embeddings_file = Path(\"outputs\") / 'mxbai_embeddings.parquet'\n",
    "\n",
    "# download embeddings file if the file doesn't exist\n",
    "if not embeddings_file.exists():\n",
    "    duckdb.execute(f\"COPY (SELECT * from read_parquet('{embeddings_url}')) TO '{embeddings_file}' (FORMAT PARQUET);\")"
   ]
  },
  {
   "cell_type": "code",
   "execution_count": null,
   "metadata": {},
   "outputs": [],
   "source": [
    "def search_df(q: str, limit: int = 10) -> List[Any]:\n",
    "    query = f\"Represent this sentence for searching relevant passages: {q}\"\n",
    "    query_embed = model.encode(query)\n",
    "    sql = f\"\"\"\n",
    "        FROM read_parquet('{embeddings_file}')\n",
    "        SELECT \n",
    "            student_id as perm,\n",
    "            question_id,\n",
    "            array_distance(\n",
    "                CAST(embedding as FLOAT[1024]),\n",
    "                CAST($embed as FLOAT[1024])\n",
    "            ) AS distance\n",
    "        ORDER BY distance ASC\n",
    "        LIMIT {limit};\n",
    "    \"\"\"\n",
    "    result = duckdb.execute(sql, {\"embed\": query_embed}).fetch_df()\n",
    "    result['text'] = pd.merge(left=result, right=df, on=\"perm\").apply(lambda row: row[row['question_id']], axis=1)\n",
    "    return result\n",
    "\n",
    "def search_display(q: str, limit: int = 10):\n",
    "    result = search_df(q, limit)\n",
    "    for r in result['text']:\n",
    "        if type(r) is str:\n",
    "            display(md(r))\n"
   ]
  },
  {
   "cell_type": "code",
   "execution_count": null,
   "metadata": {},
   "outputs": [],
   "source": [
    "search_display(\"athletics and sports\")"
   ]
  },
  {
   "cell_type": "code",
   "execution_count": null,
   "metadata": {},
   "outputs": [],
   "source": []
  }
 ],
 "metadata": {
  "kernelspec": {
   "display_name": "Python 3 (ipykernel)",
   "language": "python",
   "name": "python3"
  },
  "language_info": {
   "codemirror_mode": {
    "name": "ipython",
    "version": 3
   },
   "file_extension": ".py",
   "mimetype": "text/x-python",
   "name": "python",
   "nbconvert_exporter": "python",
   "pygments_lexer": "ipython3",
   "version": "3.12.4"
  }
 },
 "nbformat": 4,
 "nbformat_minor": 4
}
