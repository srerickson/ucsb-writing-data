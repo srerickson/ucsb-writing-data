{
 "cells": [
  {
   "cell_type": "code",
   "execution_count": 1,
   "metadata": {},
   "outputs": [
    {
     "name": "stderr",
     "output_type": "stream",
     "text": [
      "/Users/serickson-local/src/ucsb-writing-data/.venv/lib/python3.12/site-packages/sentence_transformers/cross_encoder/CrossEncoder.py:11: TqdmExperimentalWarning: Using `tqdm.autonotebook.tqdm` in notebook mode. Use `tqdm.tqdm` instead to force console mode (e.g. in jupyter console)\n",
      "  from tqdm.autonotebook import tqdm, trange\n"
     ]
    }
   ],
   "source": [
    "import pandas as pd\n",
    "from lib import search_display, search_df"
   ]
  },
  {
   "cell_type": "code",
   "execution_count": 2,
   "metadata": {},
   "outputs": [],
   "source": [
    "# import reflections data\n",
    "df = pd.read_csv(\"data/reflections.csv\")\n",
    "\n",
    "## pre-filtering: query a subset of the reflections (optional)\n",
    "#\n",
    "## example: subset df to students from a specific department\n",
    "# df = df[ df.DEPT0 == \"EEMB/MCDB\"]\n",
    "#\n",
    "## example: subset df to first gen students in a specific department\n",
    "# df = df[ (df.DEPT0 == \"EEMB/MCDB\") & (df.first_gen_coll_student == 1)]"
   ]
  },
  {
   "cell_type": "code",
   "execution_count": 11,
   "metadata": {},
   "outputs": [
    {
     "data": {
      "text/markdown": [
       "(distance: 0.70, perm: Student121) I feel very confident about my writing skills."
      ],
      "text/plain": [
       "<IPython.core.display.Markdown object>"
      ]
     },
     "metadata": {},
     "output_type": "display_data"
    },
    {
     "data": {
      "text/markdown": [
       "(distance: 0.81, perm: Student2227) I think that my writing and english skills would need some refining and I am not as confident to take writing 2."
      ],
      "text/plain": [
       "<IPython.core.display.Markdown object>"
      ]
     },
     "metadata": {},
     "output_type": "display_data"
    },
    {
     "data": {
      "text/markdown": [
       "(distance: 0.84, perm: Student601) I am not at all confident with my writing abilities. I feel that I have the knowledge and practice to be able to read texts and analyze them but when It comes down to writing and putting my thoughts into a worded format that is where I struggle. I have always excelled when it comes to math but I consistently fall short when it comes into comparison with my English. I feel that I need more time/teaching/review to be on par with college writing standards."
      ],
      "text/plain": [
       "<IPython.core.display.Markdown object>"
      ]
     },
     "metadata": {},
     "output_type": "display_data"
    },
    {
     "data": {
      "text/markdown": [
       "(distance: 0.88, perm: Student1216) Although I have learned how to become a better writer in high school, I am not as comfortable and confident as I hope to be in writing. It takes me a lot of time and extra help to write a decent paper. It is doable but I believe that extra practice will do me good. I believe that I should take every opportunity to improve my writing to feel confident and comfortable in doing any writing assignment.  "
      ],
      "text/plain": [
       "<IPython.core.display.Markdown object>"
      ]
     },
     "metadata": {},
     "output_type": "display_data"
    },
    {
     "data": {
      "text/markdown": [
       "(distance: 0.90, perm: Student2135) I think I am not prepared to write the text like this. I don't think I have a perfect writing skills to complete a paragraph like that"
      ],
      "text/plain": [
       "<IPython.core.display.Markdown object>"
      ]
     },
     "metadata": {},
     "output_type": "display_data"
    },
    {
     "data": {
      "text/markdown": [
       "(distance: 0.91, perm: Student2527) I am not confident enough in my abilities to succeed in Writing 2, I think that the added support of taking Writing 1, it would benefit me more than immediately going into Writing 2. I have struggled in the past when it comes to reading certain fictional texts and understanding the authors meaning and thereby making it difficult for me to write full essays analyzing the authors purpose or compare then to other texts. I am confident in my ability in reading any sort of non-fiction text and writing any sort of essay on them. "
      ],
      "text/plain": [
       "<IPython.core.display.Markdown object>"
      ]
     },
     "metadata": {},
     "output_type": "display_data"
    },
    {
     "data": {
      "text/markdown": [
       "(distance: 0.92, perm: Student2318)      Although I have had a lot of writing experience in the past I feel like I still have room for improvement. Reading others essays and analysis it does not feel like my writing skills are up to their level. Although I believe my ability to read and comprehend passages is good enough I'm not at the point where I can express my thoughts about it in way that's academically sound. I also have trouble with punctuation while writing my essays. In order to get where I feel I need to be I believe I need more time to practice"
      ],
      "text/plain": [
       "<IPython.core.display.Markdown object>"
      ]
     },
     "metadata": {},
     "output_type": "display_data"
    },
    {
     "data": {
      "text/markdown": [
       "(distance: 0.92, perm: Student2118) I've always had a difficult time writing and expressing my thoughts through words. Especially when it comes to storytelling, I'm just not fully confident in my writing skills. I look back at my previous writing and I only feel confident in two essays I've written. With my attention span, I also don't tend to enjoy reading, because I have a difficult time comprehending some texts and end up reading without consuming the information presented. I want to get serious about my writing and become better, so I just don't see myself starting off with writing 2. I think that would just stress me out and discourage me. "
      ],
      "text/plain": [
       "<IPython.core.display.Markdown object>"
      ]
     },
     "metadata": {},
     "output_type": "display_data"
    },
    {
     "data": {
      "text/markdown": [
       "(distance: 0.92, perm: Student1310) Due to the small high school I attended, I would feel as thought my writing skills are lacking compared to my peers. As well as the idea of two of the most important years to develop my writing skills being affected by the on going pandemic. My writing skills are lacking in some fields, such as developing a clear thesis and being able to communicate and express thoughts and explanations for claims. As my writing skills are not the best to start out with, I feel as thought the Writing one course would hep me polish my writing skills off. This course I feel would be able to dot my i's and cross my t's so I can continue to develop my writing skills."
      ],
      "text/plain": [
       "<IPython.core.display.Markdown object>"
      ]
     },
     "metadata": {},
     "output_type": "display_data"
    },
    {
     "data": {
      "text/markdown": [
       "(distance: 0.92, perm: Student2871) Though I have had experience with most of the course material in Writing 1, I am still not confident with my writing as I've stated that I have trouble putting thoughts to pen. I would like to push myself and start with Writing 2, but I fear that I may not be able to keep up with my peers. I hope that if I am  to be placed in Writing 1, that I would get the feedback I need to progress at an acceptable level."
      ],
      "text/plain": [
       "<IPython.core.display.Markdown object>"
      ]
     },
     "metadata": {},
     "output_type": "display_data"
    }
   ],
   "source": [
    "# search using OpenAI and display 10 results\n",
    "search_display(\"not confident with my writing skills\", df, limit=10, model=\"openai\")"
   ]
  },
  {
   "cell_type": "code",
   "execution_count": 5,
   "metadata": {},
   "outputs": [
    {
     "data": {
      "text/html": [
       "<div>\n",
       "<style scoped>\n",
       "    .dataframe tbody tr th:only-of-type {\n",
       "        vertical-align: middle;\n",
       "    }\n",
       "\n",
       "    .dataframe tbody tr th {\n",
       "        vertical-align: top;\n",
       "    }\n",
       "\n",
       "    .dataframe thead th {\n",
       "        text-align: right;\n",
       "    }\n",
       "</style>\n",
       "<table border=\"1\" class=\"dataframe\">\n",
       "  <thead>\n",
       "    <tr style=\"text-align: right;\">\n",
       "      <th></th>\n",
       "      <th>perm</th>\n",
       "      <th>survey_50</th>\n",
       "      <th>HSGPA</th>\n",
       "      <th>student_selection</th>\n",
       "      <th>final_placement</th>\n",
       "      <th>auto_read</th>\n",
       "      <th>cwp_quarter</th>\n",
       "      <th>data_permission</th>\n",
       "      <th>language</th>\n",
       "      <th>PR_quarter</th>\n",
       "      <th>...</th>\n",
       "      <th>EOPGRP</th>\n",
       "      <th>Gender</th>\n",
       "      <th>ETH_GRP</th>\n",
       "      <th>ETH</th>\n",
       "      <th>DEPT0</th>\n",
       "      <th>first_gen_coll_student</th>\n",
       "      <th>embedding</th>\n",
       "      <th>result_question_id</th>\n",
       "      <th>result_distance</th>\n",
       "      <th>result_text</th>\n",
       "    </tr>\n",
       "  </thead>\n",
       "  <tbody>\n",
       "    <tr>\n",
       "      <th>0</th>\n",
       "      <td>Student1392</td>\n",
       "      <td>41.0</td>\n",
       "      <td>4.14</td>\n",
       "      <td>W2</td>\n",
       "      <td>W1</td>\n",
       "      <td>read</td>\n",
       "      <td>F21</td>\n",
       "      <td>My data collected as part of this project may ...</td>\n",
       "      <td>I am comfortable using multiple languages, inc...</td>\n",
       "      <td>W23</td>\n",
       "      <td>...</td>\n",
       "      <td>NOT_EOP</td>\n",
       "      <td>F</td>\n",
       "      <td>2</td>\n",
       "      <td>Chicano</td>\n",
       "      <td>Chemistry and Biochemistry</td>\n",
       "      <td>1</td>\n",
       "      <td>[0.012076706, 0.005895249, -0.06092483, -0.027...</td>\n",
       "      <td>r1</td>\n",
       "      <td>0.787174</td>\n",
       "      <td>Rhetorical analysis had us looking at topics s...</td>\n",
       "    </tr>\n",
       "    <tr>\n",
       "      <th>1</th>\n",
       "      <td>Student55</td>\n",
       "      <td>39.0</td>\n",
       "      <td>3.81</td>\n",
       "      <td>W1</td>\n",
       "      <td>W1</td>\n",
       "      <td>auto</td>\n",
       "      <td>M2-22</td>\n",
       "      <td>My data collected as part of this project may ...</td>\n",
       "      <td>I am comfortable using multiple languages, inc...</td>\n",
       "      <td>None</td>\n",
       "      <td>...</td>\n",
       "      <td>NOT_EOP</td>\n",
       "      <td>F</td>\n",
       "      <td>2</td>\n",
       "      <td>Chicano</td>\n",
       "      <td>EEMB/MCDB</td>\n",
       "      <td>1</td>\n",
       "      <td>[0.010632173, -0.003921555, -0.04587798, -0.02...</td>\n",
       "      <td>r2</td>\n",
       "      <td>0.816911</td>\n",
       "      <td>The \"Rhetorical Analysis\" assignment was simil...</td>\n",
       "    </tr>\n",
       "    <tr>\n",
       "      <th>2</th>\n",
       "      <td>Student1282</td>\n",
       "      <td>48.0</td>\n",
       "      <td>4.04</td>\n",
       "      <td>W2</td>\n",
       "      <td>W2</td>\n",
       "      <td>auto</td>\n",
       "      <td>M1-21</td>\n",
       "      <td>My data collected as part of this project may ...</td>\n",
       "      <td>I am most comfortable using English.</td>\n",
       "      <td>None</td>\n",
       "      <td>...</td>\n",
       "      <td>EOP</td>\n",
       "      <td>F</td>\n",
       "      <td>4</td>\n",
       "      <td>Asian</td>\n",
       "      <td>Global Studies</td>\n",
       "      <td>1</td>\n",
       "      <td>[0.019386007, -0.0035050327, -0.044921402, -0....</td>\n",
       "      <td>r2</td>\n",
       "      <td>0.824663</td>\n",
       "      <td>I am very familiar with these assignments, esp...</td>\n",
       "    </tr>\n",
       "    <tr>\n",
       "      <th>3</th>\n",
       "      <td>Student1190</td>\n",
       "      <td>37.0</td>\n",
       "      <td>4.00</td>\n",
       "      <td>W1</td>\n",
       "      <td>W1</td>\n",
       "      <td>auto</td>\n",
       "      <td>F21</td>\n",
       "      <td>My data collected as part of this project may ...</td>\n",
       "      <td>I am most comfortable using English.</td>\n",
       "      <td>None</td>\n",
       "      <td>...</td>\n",
       "      <td>EOP</td>\n",
       "      <td>M</td>\n",
       "      <td>2</td>\n",
       "      <td>Chicano</td>\n",
       "      <td>College of Letters and Science</td>\n",
       "      <td>1</td>\n",
       "      <td>[0.023849348, -0.0019019855, -0.024302486, -0....</td>\n",
       "      <td>r2</td>\n",
       "      <td>0.838037</td>\n",
       "      <td>I can only speak toward rhetorical analysis, a...</td>\n",
       "    </tr>\n",
       "    <tr>\n",
       "      <th>4</th>\n",
       "      <td>Student3238</td>\n",
       "      <td>42.0</td>\n",
       "      <td>4.16</td>\n",
       "      <td>W2</td>\n",
       "      <td>W2</td>\n",
       "      <td>auto</td>\n",
       "      <td>M2-23</td>\n",
       "      <td>My data collected as part of this project may ...</td>\n",
       "      <td>I am most comfortable using English.</td>\n",
       "      <td>None</td>\n",
       "      <td>...</td>\n",
       "      <td>EOP</td>\n",
       "      <td>F</td>\n",
       "      <td>4</td>\n",
       "      <td>Asian</td>\n",
       "      <td>College of Letters and Science</td>\n",
       "      <td>1</td>\n",
       "      <td>[-0.010593441, -0.0019031311, -0.06975225, -0....</td>\n",
       "      <td>r2</td>\n",
       "      <td>0.841480</td>\n",
       "      <td>The \"Rhetorical Analysis\" assignment has a res...</td>\n",
       "    </tr>\n",
       "  </tbody>\n",
       "</table>\n",
       "<p>5 rows × 24 columns</p>\n",
       "</div>"
      ],
      "text/plain": [
       "          perm  survey_50  HSGPA student_selection final_placement auto_read  \\\n",
       "0  Student1392       41.0   4.14                W2              W1      read   \n",
       "1    Student55       39.0   3.81                W1              W1      auto   \n",
       "2  Student1282       48.0   4.04                W2              W2      auto   \n",
       "3  Student1190       37.0   4.00                W1              W1      auto   \n",
       "4  Student3238       42.0   4.16                W2              W2      auto   \n",
       "\n",
       "  cwp_quarter                                    data_permission  \\\n",
       "0         F21  My data collected as part of this project may ...   \n",
       "1       M2-22  My data collected as part of this project may ...   \n",
       "2       M1-21  My data collected as part of this project may ...   \n",
       "3         F21  My data collected as part of this project may ...   \n",
       "4       M2-23  My data collected as part of this project may ...   \n",
       "\n",
       "                                            language PR_quarter  ...   EOPGRP  \\\n",
       "0  I am comfortable using multiple languages, inc...        W23  ...  NOT_EOP   \n",
       "1  I am comfortable using multiple languages, inc...       None  ...  NOT_EOP   \n",
       "2               I am most comfortable using English.       None  ...      EOP   \n",
       "3               I am most comfortable using English.       None  ...      EOP   \n",
       "4               I am most comfortable using English.       None  ...      EOP   \n",
       "\n",
       "  Gender ETH_GRP      ETH                           DEPT0  \\\n",
       "0      F       2  Chicano      Chemistry and Biochemistry   \n",
       "1      F       2  Chicano                       EEMB/MCDB   \n",
       "2      F       4    Asian                  Global Studies   \n",
       "3      M       2  Chicano  College of Letters and Science   \n",
       "4      F       4    Asian  College of Letters and Science   \n",
       "\n",
       "  first_gen_coll_student                                          embedding  \\\n",
       "0                      1  [0.012076706, 0.005895249, -0.06092483, -0.027...   \n",
       "1                      1  [0.010632173, -0.003921555, -0.04587798, -0.02...   \n",
       "2                      1  [0.019386007, -0.0035050327, -0.044921402, -0....   \n",
       "3                      1  [0.023849348, -0.0019019855, -0.024302486, -0....   \n",
       "4                      1  [-0.010593441, -0.0019031311, -0.06975225, -0....   \n",
       "\n",
       "  result_question_id result_distance  \\\n",
       "0                 r1        0.787174   \n",
       "1                 r2        0.816911   \n",
       "2                 r2        0.824663   \n",
       "3                 r2        0.838037   \n",
       "4                 r2        0.841480   \n",
       "\n",
       "                                         result_text  \n",
       "0  Rhetorical analysis had us looking at topics s...  \n",
       "1  The \"Rhetorical Analysis\" assignment was simil...  \n",
       "2  I am very familiar with these assignments, esp...  \n",
       "3  I can only speak toward rhetorical analysis, a...  \n",
       "4  The \"Rhetorical Analysis\" assignment has a res...  \n",
       "\n",
       "[5 rows x 24 columns]"
      ]
     },
     "execution_count": 5,
     "metadata": {},
     "output_type": "execute_result"
    }
   ],
   "source": [
    "# output full table (results only include responses from firsts gen students)\n",
    "result = search_df(\"rhetorical analysis\", df[df.first_gen_coll_student == 1], model=\"openai\")\n",
    "# print first few rows\n",
    "result.head()"
   ]
  },
  {
   "cell_type": "code",
   "execution_count": null,
   "metadata": {},
   "outputs": [],
   "source": []
  }
 ],
 "metadata": {
  "kernelspec": {
   "display_name": "Python 3 (ipykernel)",
   "language": "python",
   "name": "python3"
  },
  "language_info": {
   "codemirror_mode": {
    "name": "ipython",
    "version": 3
   },
   "file_extension": ".py",
   "mimetype": "text/x-python",
   "name": "python",
   "nbconvert_exporter": "python",
   "pygments_lexer": "ipython3",
   "version": "3.12.7"
  }
 },
 "nbformat": 4,
 "nbformat_minor": 4
}
