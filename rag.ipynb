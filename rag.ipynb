{
 "cells": [
  {
   "cell_type": "markdown",
   "id": "e7d0685e-d112-4c3b-ba49-99cae6a4330d",
   "metadata": {},
   "source": [
    "# RAG question/response example\n",
    "\n",
    "This notebook demonstrates a basic retrieval-augmented generation (RAG) process. It uses `search_df()` to generate a \"context\" for a given question/prompt; the context is included in a ChatGPT prompt and used to generate a response the question."
   ]
  },
  {
   "cell_type": "code",
   "execution_count": 1,
   "id": "879e8895-c6c0-42c2-9cf4-a8acb2330466",
   "metadata": {},
   "outputs": [],
   "source": [
    "import pandas as pd\n",
    "from lib import openai_completion, search_df\n",
    "from IPython.display import Markdown as md, display"
   ]
  },
  {
   "cell_type": "code",
   "execution_count": 2,
   "id": "64e7c614-5454-457c-8082-143a6d293fd7",
   "metadata": {},
   "outputs": [],
   "source": [
    "# read our source data\n",
    "df = pd.read_csv(\"data/reflections-public.csv\")"
   ]
  },
  {
   "cell_type": "markdown",
   "id": "36b7fd2a-69f3-4f44-814b-9ed334ec35cc",
   "metadata": {},
   "source": [
    "## Question to ask"
   ]
  },
  {
   "cell_type": "code",
   "execution_count": 3,
   "id": "35b3159f-f7ce-49fc-88ee-226bd3801c95",
   "metadata": {},
   "outputs": [],
   "source": [
    "question = \"What are students' expectionations of college writing?\""
   ]
  },
  {
   "cell_type": "markdown",
   "id": "fdd77b17-fe62-4771-93a1-79250ce8b193",
   "metadata": {},
   "source": [
    "## Context"
   ]
  },
  {
   "cell_type": "markdown",
   "id": "e00d132c-ca4a-4c0e-97aa-854aae162fc0",
   "metadata": {},
   "source": [
    "This is the \"context\" that ChatGPT will use to answer the question."
   ]
  },
  {
   "cell_type": "code",
   "execution_count": 4,
   "id": "c3e0adbb-0763-4201-9141-c0021f00cf80",
   "metadata": {},
   "outputs": [
    {
     "data": {
      "text/markdown": [
       "The student's writings compared to the writing I have done in the past are somewhat alike because I can write long essays. I am just not used to it, I write them every once and awhile. My experience with writing has prepared me for what's to come in college writing but it definitely hasn't prepared me to consistently write on that level. I've written at most 3 page papers but I never actually knew what I was doing. I would continue to write whatever I thought was best and if I answered the essay prompt then I was done. College writing will definitely be more tedious but I plan to expand my writing skills through class and tutors.\n",
       "\n",
       "Although there are new types and genres of writing I will be expected to produce in college, I feel that I have sufficient background knowledge in the technical and expressive aspects of writing in order to succeed in this new environment. I believe that starting with Writing 2 will allow me to direct more focus towards understanding and utilizing new concepts in college writing, rather than just reviewing and improving my existing skills.\n",
       "\n",
       "I have taken two college level writing courses, in addition to CSU expository reading and writing while in high school. My understanding and practice with college writing courses, I believe, is at the level in which I can comfortably take writing 2. Writing 1, while it may offer some help, would be no more than busy work for me. \n",
       "\n",
       "In my opinion, it is important for me to build a stronger foundation of writing techniques as I am transitioning into college writing from high school level writing, which are very different. Without a strong basis of what college writing is like, Writing 2 would possibly be difficult for me.\n",
       "\n",
       "I think Writing 1 will prepare me for the University level of English. I come from a small school as well and I definitely don't feel hundred percent confident in college level English. I definitely feel that Writing 1 will prepare me and help me better understand some things before I can do writing 2."
      ],
      "text/plain": [
       "<IPython.core.display.Markdown object>"
      ]
     },
     "metadata": {},
     "output_type": "display_data"
    }
   ],
   "source": [
    "context = search_df(question, df, limit=5, model=\"openai\")\n",
    "\n",
    "# context is a data frame. the 'result_text' field is used in the \n",
    "# openai_completion() function below. Here's what 'context' looks \n",
    "# like to the OpenAI API:\n",
    "display(md(\"\\n\\n\".join(context[\"result_text\"])))"
   ]
  },
  {
   "cell_type": "markdown",
   "id": "09849404-bfcb-4130-bec3-d81fb8e74787",
   "metadata": {},
   "source": [
    "### Generated Response"
   ]
  },
  {
   "cell_type": "markdown",
   "id": "b209a659-8fa2-4311-871f-083c8f51b4ff",
   "metadata": {},
   "source": [
    "This is the template used to build the prompt that is sent to ChatGPT. You can edit the template but keep `{context}` and `{question}`."
   ]
  },
  {
   "cell_type": "code",
   "execution_count": 5,
   "id": "fd796286-2723-445c-85ef-6e4624ab9f92",
   "metadata": {},
   "outputs": [],
   "source": [
    "template = \"\"\"\\\n",
    "Survey responses from first-year colleges students are listed below.\n",
    "\n",
    "--- begin survey responses ---\n",
    "{context}\n",
    "--- end survey responses ---\n",
    "\n",
    "Use the survey responses to answer the question.\n",
    "If you don't know the answer, just say that you don't know. \n",
    "Use three sentences maximum and keep the answer concise.\n",
    "\n",
    "Question: {question}\n",
    "Answer:\n",
    "\"\"\""
   ]
  },
  {
   "cell_type": "code",
   "execution_count": 6,
   "id": "83502ed0-726b-4552-9600-c1877d869343",
   "metadata": {},
   "outputs": [
    {
     "name": "stdout",
     "output_type": "stream",
     "text": [
      "Students expect college writing to be more challenging and tedious compared to high school writing, requiring them to produce new types and genres of writing. They recognize the need to build a stronger foundation in writing techniques and express a desire for support through courses like Writing 1 before advancing to Writing 2. Some students feel they have sufficient background to succeed in college writing, while others seek to improve their skills before progressing.\n"
     ]
    }
   ],
   "source": [
    "response = openai_completion(template, question, context)\n",
    "print(response)"
   ]
  }
 ],
 "metadata": {
  "kernelspec": {
   "display_name": "Python 3 (ipykernel)",
   "language": "python",
   "name": "python3"
  },
  "language_info": {
   "codemirror_mode": {
    "name": "ipython",
    "version": 3
   },
   "file_extension": ".py",
   "mimetype": "text/x-python",
   "name": "python",
   "nbconvert_exporter": "python",
   "pygments_lexer": "ipython3",
   "version": "3.12.9"
  }
 },
 "nbformat": 4,
 "nbformat_minor": 5
}
