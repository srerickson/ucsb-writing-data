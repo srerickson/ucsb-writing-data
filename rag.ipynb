{
 "cells": [
  {
   "cell_type": "markdown",
   "id": "e7d0685e-d112-4c3b-ba49-99cae6a4330d",
   "metadata": {},
   "source": [
    "# RAG question/response example\n",
    "\n",
    "This notebook demonstrates a basic Retrieval-augmented generation (RAG) process.\n"
   ]
  },
  {
   "cell_type": "code",
   "execution_count": 1,
   "id": "879e8895-c6c0-42c2-9cf4-a8acb2330466",
   "metadata": {},
   "outputs": [
    {
     "name": "stderr",
     "output_type": "stream",
     "text": [
      "/Users/serickson-local/src/ucsb-writing-data/.venv/lib/python3.12/site-packages/sentence_transformers/cross_encoder/CrossEncoder.py:11: TqdmExperimentalWarning: Using `tqdm.autonotebook.tqdm` in notebook mode. Use `tqdm.tqdm` instead to force console mode (e.g. in jupyter console)\n",
      "  from tqdm.autonotebook import tqdm, trange\n"
     ]
    }
   ],
   "source": [
    "from openai import OpenAI\n",
    "import pandas as pd\n",
    "from lib import openai_completion, search_df\n",
    "from IPython.display import Markdown as md, display"
   ]
  },
  {
   "cell_type": "code",
   "execution_count": 2,
   "id": "64e7c614-5454-457c-8082-143a6d293fd7",
   "metadata": {},
   "outputs": [],
   "source": [
    "# read our source data\n",
    "df = pd.read_csv(\"data/reflections.csv\")"
   ]
  },
  {
   "cell_type": "markdown",
   "id": "36b7fd2a-69f3-4f44-814b-9ed334ec35cc",
   "metadata": {},
   "source": [
    "## Question to ask"
   ]
  },
  {
   "cell_type": "code",
   "execution_count": 3,
   "id": "35b3159f-f7ce-49fc-88ee-226bd3801c95",
   "metadata": {},
   "outputs": [],
   "source": [
    "question = \"What are students' expectionations of college writing?\""
   ]
  },
  {
   "cell_type": "markdown",
   "id": "fdd77b17-fe62-4771-93a1-79250ce8b193",
   "metadata": {},
   "source": [
    "## Context"
   ]
  },
  {
   "cell_type": "markdown",
   "id": "e00d132c-ca4a-4c0e-97aa-854aae162fc0",
   "metadata": {},
   "source": [
    "this is the \"context\" that chatGPT will use to answer the question"
   ]
  },
  {
   "cell_type": "code",
   "execution_count": null,
   "id": "c3e0adbb-0763-4201-9141-c0021f00cf80",
   "metadata": {},
   "outputs": [],
   "source": [
    "context = search_df(question, df, limit=5, model=\"openai\")\n",
    "\n",
    "# context is data frame. the 'result_text' field is used in the \n",
    "# openai_completion() function below. Here's what it looks like to\n",
    "# openAI:\n",
    "display(md(\"\\n\\n\".join(context[\"result_text\"])))"
   ]
  },
  {
   "cell_type": "markdown",
   "id": "09849404-bfcb-4130-bec3-d81fb8e74787",
   "metadata": {},
   "source": [
    "### OpenAI Text Completion"
   ]
  },
  {
   "cell_type": "markdown",
   "id": "b209a659-8fa2-4311-871f-083c8f51b4ff",
   "metadata": {},
   "source": [
    "You can edit the prompt template, but keep `{context}` and `{question}`\n"
   ]
  },
  {
   "cell_type": "code",
   "execution_count": 5,
   "id": "fd796286-2723-445c-85ef-6e4624ab9f92",
   "metadata": {},
   "outputs": [],
   "source": [
    "template = \"\"\"\\\n",
    "Survey responses from first-year colleges students are listed below.\n",
    "\n",
    "--- begin survey responses ---\n",
    "{context}\n",
    "--- end survey responses ---\n",
    "\n",
    "Use the survey responses to answer the question.\n",
    "If you don't know the answer, just say that you don't know. \n",
    "Use three sentences maximum and keep the answer concise.\n",
    "\n",
    "Question: {question}\n",
    "Answer:\n",
    "\"\"\""
   ]
  },
  {
   "cell_type": "code",
   "execution_count": 6,
   "id": "83502ed0-726b-4552-9600-c1877d869343",
   "metadata": {},
   "outputs": [
    {
     "name": "stdout",
     "output_type": "stream",
     "text": [
      "Students expect college writing to be more challenging and demanding than their high school writing experiences. They acknowledge the need for a transitional period to develop their writing skills and techniques for academic success. Many feel that courses like Writing 1 will provide the necessary support to ease into the expectations of college-level writing.\n"
     ]
    }
   ],
   "source": [
    "response = openai_completion(template, question, context)\n",
    "print(response)"
   ]
  },
  {
   "cell_type": "code",
   "execution_count": null,
   "id": "fac41533-47a4-4d85-86ff-791cbb0d03d1",
   "metadata": {},
   "outputs": [],
   "source": []
  }
 ],
 "metadata": {
  "kernelspec": {
   "display_name": "Python 3 (ipykernel)",
   "language": "python",
   "name": "python3"
  },
  "language_info": {
   "codemirror_mode": {
    "name": "ipython",
    "version": 3
   },
   "file_extension": ".py",
   "mimetype": "text/x-python",
   "name": "python",
   "nbconvert_exporter": "python",
   "pygments_lexer": "ipython3",
   "version": "3.12.7"
  }
 },
 "nbformat": 4,
 "nbformat_minor": 5
}
